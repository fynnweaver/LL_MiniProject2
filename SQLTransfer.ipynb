{
 "cells": [
  {
   "cell_type": "markdown",
   "id": "d6e8aa3f-416f-4da0-8d86-ddfc99985ca9",
   "metadata": {},
   "source": [
    "### Transfer to SQL"
   ]
  },
  {
   "cell_type": "code",
   "execution_count": 1,
   "id": "625c46fe-439a-4bd3-8740-8d2959b1c56c",
   "metadata": {},
   "outputs": [],
   "source": [
    "import sqlite3\n",
    "from sqlite3 import Error\n",
    "\n",
    "def create_connection(path):\n",
    "    connection = None\n",
    "    try:\n",
    "        connection = sqlite3.connect(path)\n",
    "        print(\"Connection to SQLite DB successful\")\n",
    "    except Error as e:\n",
    "        print(f\"The error '{e}' occurred\")\n",
    "\n",
    "    return connection"
   ]
  },
  {
   "cell_type": "code",
   "execution_count": 2,
   "id": "26c87492-caea-40f9-bddd-95cc65500dc5",
   "metadata": {},
   "outputs": [
    {
     "name": "stdout",
     "output_type": "stream",
     "text": [
      "Connection to SQLite DB successful\n"
     ]
    }
   ],
   "source": [
    "#connect to sqlite database\n",
    "connection = create_connection(\"sm_app.sqlite\")"
   ]
  },
  {
   "cell_type": "code",
   "execution_count": 3,
   "id": "bd21fa56-874c-4a98-98bb-e7e6a7dafec9",
   "metadata": {},
   "outputs": [],
   "source": [
    "def execute_query(connection, query):\n",
    "    cursor = connection.cursor()\n",
    "    try:\n",
    "        cursor.execute(query)\n",
    "        connection.commit()\n",
    "        print(\"Query executed successfully\")\n",
    "    except Error as e:\n",
    "        print(f\"The error '{e}' occurred\")"
   ]
  },
  {
   "cell_type": "markdown",
   "id": "6d748797-185d-4458-a540-c677351220e1",
   "metadata": {},
   "source": [
    "### Foursquare table"
   ]
  },
  {
   "cell_type": "code",
   "execution_count": 5,
   "id": "8d92c42f-8146-4478-8ae7-434179090e84",
   "metadata": {},
   "outputs": [],
   "source": [
    "create_foursquare_table = \"\"\"\n",
    "CREATE TABLE foursquare_data(\n",
    "   id INTEGER PRIMARY KEY AUTOINCREMENT \n",
    "  ,Category VARCHAR(13) NOT NULL\n",
    "  ,cat_id       INTEGER  NOT NULL\n",
    "  ,title    VARCHAR(27) NOT NULL\n",
    "  ,total    INTEGER  NOT NULL\n",
    ");\n",
    "\"\"\""
   ]
  },
  {
   "cell_type": "code",
   "execution_count": null,
   "id": "99931ed2-7422-4613-8d01-3296c64fa4cb",
   "metadata": {},
   "outputs": [],
   "source": [
    "execute_query(connection, create_foursquare_table) "
   ]
  },
  {
   "cell_type": "code",
   "execution_count": 6,
   "id": "9963d587-130f-48e4-aaed-acf1add9b758",
   "metadata": {},
   "outputs": [],
   "source": [
    "insert_foursquare = \"\"\"\n",
    "INSERT INTO foursquare_data(id,category,cat_id,title,total) VALUES\n",
    " (12,'Dining',13065,'Restaurant',14)\n",
    ",(53,'Health',15019,'Mental Health Clinic',10)\n",
    ",(13,'Dining',13068,'American Restaurant',6)\n",
    ",(54,'Health',15006,'Chiropractor',5)\n",
    ",(55,'Health',15018,'Mental Health Service',5)\n",
    ",(15,'Dining',13002,'Bakery',5)\n",
    ",(14,'Dining',13031,'Burger Joint',5)\n",
    ",(0,'Entertainment',10000,'Arts and Entertainment',4)\n",
    ",(56,'Health',15003,'Alternative Medicine Clinic',4)\n",
    ",(57,'Health',15014,'Hospital',4)\n",
    ",(17,'Dining',13016,'Lounge',4)\n",
    ",(16,'Dining',13035,'Coffee Shop',4)\n",
    ",(22,'Dining',13145,'Fast Food Restaurant',3)\n",
    ",(61,'Health',15001,'Acupuncture Clinic',3)\n",
    ",(24,'Dining',13009,'Cocktail Bar',3)\n",
    ",(20,'Dining',13303,'Mexican Restaurant',3)\n",
    ",(60,'Health',15054,'Veterinarian',3)\n",
    ",(59,'Health',15016,'Medical Center',3)\n",
    ",(58,'Health',15007,'Dentist',3)\n",
    ",(21,'Dining',13034,'Café',3)\n",
    ",(23,'Dining',13387,'Winery',3)\n",
    ",(19,'Dining',13046,'Ice Cream Parlor',3)\n",
    ",(18,'Dining',13026,'BBQ Joint',3)\n",
    ",(72,'Landmarks',16032,'Park',3)\n",
    ",(71,'Landmarks',16026,'Monument',3)\n",
    ",(25,'Dining',13029,'Brewery',2)\n",
    ",(26,'Dining',13383,'Steakhouse',2)\n",
    ",(27,'Dining',13006,'Beer Bar',2)\n",
    ",(28,'Dining',13003,'Bar',2)\n",
    ",(1,'Entertainment',10039,'Music Venue',2)\n",
    ",(63,'Health',15000,'Health and Medicine',2)\n",
    ",(62,'Health',15031,'Doctor''s Office',2)\n",
    ",(75,'Landmarks',16020,'Historic and Protected Site',1)\n",
    ",(74,'Landmarks',16014,'Farm',1)\n",
    ",(51,'Dining',13007,'Beer Garden',1)\n",
    ",(73,'Landmarks',16006,'Bridge',1)\n",
    ",(50,'Dining',13010,'Dive Bar',1)\n",
    ",(52,'Dining',17060,'Candy Store',1)\n",
    ",(68,'Health',15041,'Ophthalmologist',1)\n",
    ",(70,'Health',17037,'Eyecare Store',1)\n",
    ",(69,'Health',15017,'Medical Lab',1)\n",
    ",(67,'Health',15022,'Nursing Home',1)\n",
    ",(64,'Health',15024,'Optometrist',1)\n",
    ",(65,'Health',15026,'Physical Therapy Clinic',1)\n",
    ",(66,'Health',15027,'Physician',1)\n",
    ",(48,'Dining',13018,'Pub',1)\n",
    ",(49,'Dining',13012,'Hookah Bar',1)\n",
    ",(38,'Dining',10032,'Night Club',1)\n",
    ",(47,'Dining',13022,'Sports Bar',1)\n",
    ",(31,'Dining',13099,'Chinese Restaurant',1)\n",
    ",(2,'Entertainment',10003,'Arcade',1)\n",
    ",(3,'Entertainment',10004,'Art Gallery',1)\n",
    ",(4,'Entertainment',10028,'Art Museum',1)\n",
    ",(5,'Entertainment',10030,'History Museum',1)\n",
    ",(6,'Entertainment',10032,'Night Club',1)\n",
    ",(7,'Entertainment',10043,'Theater',1)\n",
    ",(8,'Entertainment',10051,'Stadium',1)\n",
    ",(9,'Entertainment',10053,'Ticket Seller',1)\n",
    ",(10,'Entertainment',13010,'Dive Bar',1)\n",
    ",(11,'Entertainment',13065,'Restaurant',1)\n",
    ",(29,'Dining',13352,'Thai Restaurant',1)\n",
    ",(30,'Dining',13334,'Sandwich Restaurant',1)\n",
    ",(32,'Dining',13379,'Vietnamese Restaurant',1)\n",
    ",(46,'Dining',13024,'Whisky Bar',1)\n",
    ",(33,'Dining',13315,'Noodle Restaurant',1)\n",
    ",(34,'Dining',13302,'Mediterranean Restaurant',1)\n",
    ",(35,'Dining',13236,'Italian Restaurant',1)\n",
    ",(36,'Dining',14013,'Street Food Gathering',1)\n",
    ",(37,'Dining',13148,'French Restaurant',1)\n",
    ",(39,'Dining',13040,'Dessert Shop',1)\n",
    ",(40,'Dining',13072,'Asian Restaurant',1)\n",
    ",(41,'Dining',13064,'Pizzeria',1)\n",
    ",(42,'Dining',13044,'Frozen Yogurt Shop',1)\n",
    ",(43,'Dining',13000,'Dining and Drinking',1)\n",
    ",(44,'Dining',13039,'Deli',1)\n",
    ",(45,'Dining',13036,'Tea Room',1)\n",
    ",(76,'Landmarks',16037,'Playground',1);\n",
    "\n",
    "\"\"\""
   ]
  },
  {
   "cell_type": "code",
   "execution_count": 7,
   "id": "cd684c35-8213-47d2-bc90-9f7ab075f4d0",
   "metadata": {},
   "outputs": [
    {
     "name": "stdout",
     "output_type": "stream",
     "text": [
      "The error 'UNIQUE constraint failed: foursquare_data.id' occurred\n"
     ]
    }
   ],
   "source": [
    "execute_query(connection, insert_foursquare)   "
   ]
  },
  {
   "cell_type": "markdown",
   "id": "cd3e561c-93b8-496f-a3c2-13a4a542c202",
   "metadata": {},
   "source": [
    "### Yelp sample"
   ]
  },
  {
   "cell_type": "code",
   "execution_count": null,
   "id": "cc2e43dd-232d-4dc0-97fa-33eb26b179b9",
   "metadata": {},
   "outputs": [],
   "source": [
    "create_yelp_table = \"\"\"\n",
    "CREATE TABLE yelp_data(\n",
    "  id INTEGER PRIMARY KEY AUTOINCREMENT, \n",
    "  category TEXT NOT NULL, \n",
    "  title TEXT NOT NULL, \n",
    "  total INTEGER NOT NULL\n",
    ");\n",
    "\"\"\""
   ]
  },
  {
   "cell_type": "code",
   "execution_count": null,
   "id": "d663a779-7ebd-4320-ae28-78ba09bede48",
   "metadata": {},
   "outputs": [],
   "source": [
    "execute_query(connection, create_yelp_table)"
   ]
  },
  {
   "cell_type": "code",
   "execution_count": null,
   "id": "0fef23d0-84ee-464f-be93-1a21e1897607",
   "metadata": {},
   "outputs": [],
   "source": [
    "insert_yelp = \"\"\"\n",
    "INSERT INTO yelp_data(id,category,title,total) VALUES\n",
    " (51,'Health','Massage',6)\n",
    ",(50,'Health','Massage Therapy',6)\n",
    ",(79,'Landmarks','Breakfast & Brunch',5)\n",
    ",(21,'Dining','Breakfast & Brunch',5)\n",
    ",(20,'Dining','American (Traditional)',5)\n",
    ",(0,'Entertainment','Supernatural Readings',5)\n",
    ",(80,'Landmarks','Coffee & Tea',4)\n",
    ",(22,'Dining','Food Trucks',4)\n",
    ",(1,'Entertainment','Performing Arts',4)\n",
    ",(52,'Health','Chiropractors',3)\n",
    ",(83,'Landmarks','American (Traditional)',3)\n",
    ",(82,'Landmarks','Food Trucks',3)\n",
    ",(81,'Landmarks','Sandwiches',3)\n",
    ",(53,'Health','Reiki',3)\n",
    ",(24,'Dining','Sandwiches',3)\n",
    ",(23,'Dining','Coffee & Tea',3)\n",
    ",(2,'Entertainment','Wineries',3)\n",
    ",(86,'Landmarks','Pubs',2)\n",
    ",(89,'Landmarks','Beer Bar',2)\n",
    ",(56,'Health','Hypnosis/Hypnotherapy',2)\n",
    ",(54,'Health','Weight Loss Centers',2)\n",
    ",(85,'Landmarks','Cocktail Bars',2)\n",
    ",(57,'Health','Doulas',2)\n",
    ",(58,'Health','Skin Care',2)\n",
    ",(88,'Landmarks','Beer, Wine & Spirits',2)\n",
    ",(87,'Landmarks','Desserts',2)\n",
    ",(84,'Landmarks','American (New)',2)\n",
    ",(59,'Health','Medical Spas',2)\n",
    ",(55,'Health','Acupuncture',2)\n",
    ",(27,'Dining','Pubs',2)\n",
    ",(26,'Dining','Beer, Wine & Spirits',2)\n",
    ",(25,'Dining','American (New)',2)\n",
    ",(3,'Entertainment','Life Coach',2)\n",
    ",(4,'Entertainment','Psychics',2)\n",
    ",(5,'Entertainment','Museums',2)\n",
    ",(9,'Entertainment','Massage Therapy',1)\n",
    ",(6,'Entertainment','Farms',1)\n",
    ",(7,'Entertainment','Dance Studios',1)\n",
    ",(8,'Entertainment','Magicians',1)\n",
    ",(29,'Dining','Sushi Bars',1)\n",
    ",(72,'Health','Counseling & Mental Health',1)\n",
    ",(11,'Entertainment','Musicians',1)\n",
    ",(12,'Entertainment','Nurseries & Gardening',1)\n",
    ",(13,'Entertainment','Opera & Ballet',1)\n",
    ",(78,'Health','Life Coach',1)\n",
    ",(77,'Health','Adult Education',1)\n",
    ",(76,'Health','Alternative Medicine',1)\n",
    ",(75,'Health','Cannabis Clinics',1)\n",
    ",(74,'Health','Cannabis Dispensaries',1)\n",
    ",(10,'Entertainment','Balloon Services',1)\n",
    ",(90,'Landmarks','Burgers',1)\n",
    ",(91,'Landmarks','Mexican',1)\n",
    ",(92,'Landmarks','Waffles',1)\n",
    ",(109,'Landmarks','Breweries',1)\n",
    ",(108,'Landmarks','Coffee Roasteries',1)\n",
    ",(107,'Landmarks','Cupcakes',1)\n",
    ",(106,'Landmarks','Custom Cakes',1)\n",
    ",(105,'Landmarks','Delis',1)\n",
    ",(104,'Landmarks','French',1)\n",
    ",(103,'Landmarks','Ice Cream & Frozen Yogurt',1)\n",
    ",(102,'Landmarks','Brewpubs',1)\n",
    ",(101,'Landmarks','Mediterranean',1)\n",
    ",(100,'Landmarks','Italian',1)\n",
    ",(99,'Landmarks','Noodles',1)\n",
    ",(98,'Landmarks','Pizza',1)\n",
    ",(97,'Landmarks','Bars',1)\n",
    ",(96,'Landmarks','Bakeries',1)\n",
    ",(95,'Landmarks','Tapas/Small Plates',1)\n",
    ",(94,'Landmarks','Thai',1)\n",
    ",(93,'Landmarks','Vietnamese',1)\n",
    ",(73,'Health','Childbirth Education',1)\n",
    ",(70,'Health','Lactation Services',1)\n",
    ",(71,'Health','Eyewear & Opticians',1)\n",
    ",(39,'Dining','Japanese',1)\n",
    ",(46,'Dining','Brewpubs',1)\n",
    ",(45,'Dining','Burgers',1)\n",
    ",(44,'Dining','Chinese',1)\n",
    ",(43,'Dining','Cocktail Bars',1)\n",
    ",(42,'Dining','Delis',1)\n",
    ",(41,'Dining','French',1)\n",
    ",(40,'Dining','Hot Dogs',1)\n",
    ",(38,'Dining','Mediterranean',1)\n",
    ",(48,'Dining','Bakeries',1)\n",
    ",(37,'Dining','Italian',1)\n",
    ",(36,'Dining','Noodles',1)\n",
    ",(35,'Dining','Waffles',1)\n",
    ",(34,'Dining','Vietnamese',1)\n",
    ",(33,'Dining','Thai',1)\n",
    ",(32,'Dining','Tapas/Small Plates',1)\n",
    ",(31,'Dining','Mexican',1)\n",
    ",(47,'Dining','Bars',1)\n",
    ",(49,'Dining','Wine Bars',1)\n",
    ",(30,'Dining','Speakeasies',1)\n",
    ",(62,'Health','Spiritual Shop',1)\n",
    ",(69,'Health','Laser Hair Removal',1)\n",
    ",(68,'Health','Acne Treatment',1)\n",
    ",(67,'Health','Undersea/Hyperbaric Medicine',1)\n",
    ",(66,'Health','Traditional Chinese Medicine',1)\n",
    ",(65,'Health','Tattoo Removal',1)\n",
    ",(64,'Health','Optometrists',1)\n",
    ",(63,'Health','Permanent Makeup',1)\n",
    ",(61,'Health','Placenta Encapsulations',1)\n",
    ",(28,'Dining','Pizza',1)\n",
    ",(60,'Health','Naturopathic/Holistic',1)\n",
    ",(14,'Entertainment','DJs',1)\n",
    ",(15,'Entertainment','Psychic Mediums',1)\n",
    ",(16,'Entertainment','CSA',1)\n",
    ",(17,'Entertainment','Reiki',1)\n",
    ",(18,'Entertainment','Bars',1)\n",
    ",(19,'Entertainment','Arts & Entertainment',1)\n",
    ",(110,'Landmarks','Wine Bars',1);\n",
    "\"\"\""
   ]
  },
  {
   "cell_type": "code",
   "execution_count": null,
   "id": "4deb6cda-74ce-4924-811a-711da2874725",
   "metadata": {},
   "outputs": [],
   "source": [
    "execute_query(connection, insert_yelp)  "
   ]
  }
 ],
 "metadata": {
  "kernelspec": {
   "display_name": "Python 3 (ipykernel)",
   "language": "python",
   "name": "python3"
  },
  "language_info": {
   "codemirror_mode": {
    "name": "ipython",
    "version": 3
   },
   "file_extension": ".py",
   "mimetype": "text/x-python",
   "name": "python",
   "nbconvert_exporter": "python",
   "pygments_lexer": "ipython3",
   "version": "3.9.7"
  }
 },
 "nbformat": 4,
 "nbformat_minor": 5
}
