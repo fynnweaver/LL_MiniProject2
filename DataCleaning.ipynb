{
 "cells": [
  {
   "cell_type": "markdown",
   "id": "12b43a45-88c1-410e-8c28-638263aded0b",
   "metadata": {},
   "source": [
    "## Intructions\n",
    "\n",
    "The main goal of the mini-project is to build the database of restaurants, bars and various points of interest (POIs) in the area of your choice and find out which API has better coverage in the selected area. The APIs have limited number of requests for free, so start with the smaller area.\n",
    "\n",
    "APIS:\n",
    "- Foursquare\n",
    "- Yelp\n",
    "- *Stretch*: Google\n",
    "\n",
    "Steps:\n",
    "- pull the data about various POIs in the area through API. If you run out of requests for any of the APIs, don't worry, it's ok to use only sample data you already have or the POIs from the Yelp API. It's approach and process that counts.\n",
    "- create own SQLite database and store the data about the POIs. Think about what will be the best structure of the database\n",
    "- compare the results using SQL or Pandas (it's up to you:)) and see which API has a better coverage of the area.\n",
    "- choose the top 10 POIs based on the popularity\n",
    "- *(Stretch)* By implementing [travelling salesman problem (TSP)](https://en.wikipedia.org/wiki/Travelling_salesman_problem), how much time would it take to visit all of these places?"
   ]
  },
  {
   "cell_type": "markdown",
   "id": "d2bfedd0-db98-4cf5-8ef8-46c9a7b632fd",
   "metadata": {},
   "source": [
    "### Step 1: Foursquare API\n",
    "\n",
    "Make a function using foursquare API that takes a location and outputs a table of POI in the area. \n",
    "\n",
    "*Note*: While foursquare has unlimited queries, try and only run function once"
   ]
  },
  {
   "cell_type": "code",
   "execution_count": 1,
   "id": "e00d4692-be97-4058-88f4-de58db12a8c0",
   "metadata": {},
   "outputs": [],
   "source": [
    "#import packages\n",
    "import pandas as pd\n",
    "import os\n",
    "import requests as re\n",
    "from IPython.display import JSON"
   ]
  },
  {
   "cell_type": "code",
   "execution_count": 2,
   "id": "ed5ae9e4-2510-415c-a6c7-a365656d057c",
   "metadata": {},
   "outputs": [],
   "source": [
    "#define api url elements\n",
    "root_endpoint_four = \"https://api.foursquare.com/v3/places/search\"\n",
    "\n",
    "#set api key\n",
    "foursquare_key = os.environ[\"FOURSQUARE_API_KEY\"]\n",
    "\n",
    "headers_four = {\n",
    "    \"Accept\": \"application/json\",\n",
    "    \"Authorization\": foursquare_key\n",
    "}"
   ]
  },
  {
   "cell_type": "code",
   "execution_count": 42,
   "id": "b1e169a1-cfd0-4a86-9eb9-43a2f0cc164d",
   "metadata": {},
   "outputs": [],
   "source": [
    "#custom dict of category ids and labels\n",
    "cat_ids = [['Arts and Entertainment', 10000, 'arts, All'],\n",
    "           ['Business and Professional Services', 11000, 'business, All'],\n",
    "           ['Community and Government', 12000, 'publicservicesgovt, All'],\n",
    "           ['Dining and Drinking', 13000, 'restaurants, All'],\n",
    "           ['Event', 14000,'yelpevents, All'],\n",
    "           ['Health and Medicine', 15000,'health, All'],\n",
    "           ['Landmarks and Outdoors', 16000,'landmarks, All'],\n",
    "           ['Retail', 17000,'shopping, All'],\n",
    "           ['Sports and Recreation', 18000,'active, All'],\n",
    "           ['Travel and Transportation', 19000,'transport, All']\n",
    "          ]\n",
    "\n",
    "cat_ids = pd.DataFrame(cat_ids, columns=['Category','four_ID','yelp_ID'])"
   ]
  },
  {
   "cell_type": "code",
   "execution_count": 47,
   "id": "81084ed4-e94c-48ba-9626-3b74113d8e48",
   "metadata": {},
   "outputs": [
    {
     "data": {
      "text/html": [
       "<div>\n",
       "<style scoped>\n",
       "    .dataframe tbody tr th:only-of-type {\n",
       "        vertical-align: middle;\n",
       "    }\n",
       "\n",
       "    .dataframe tbody tr th {\n",
       "        vertical-align: top;\n",
       "    }\n",
       "\n",
       "    .dataframe thead th {\n",
       "        text-align: right;\n",
       "    }\n",
       "</style>\n",
       "<table border=\"1\" class=\"dataframe\">\n",
       "  <thead>\n",
       "    <tr style=\"text-align: right;\">\n",
       "      <th></th>\n",
       "      <th></th>\n",
       "      <th>total</th>\n",
       "    </tr>\n",
       "    <tr>\n",
       "      <th>id</th>\n",
       "      <th>title</th>\n",
       "      <th></th>\n",
       "    </tr>\n",
       "  </thead>\n",
       "  <tbody>\n",
       "    <tr>\n",
       "      <th>13065</th>\n",
       "      <th>Restaurant</th>\n",
       "      <td>14</td>\n",
       "    </tr>\n",
       "    <tr>\n",
       "      <th>13068</th>\n",
       "      <th>American Restaurant</th>\n",
       "      <td>6</td>\n",
       "    </tr>\n",
       "    <tr>\n",
       "      <th>13031</th>\n",
       "      <th>Burger Joint</th>\n",
       "      <td>5</td>\n",
       "    </tr>\n",
       "    <tr>\n",
       "      <th>13002</th>\n",
       "      <th>Bakery</th>\n",
       "      <td>5</td>\n",
       "    </tr>\n",
       "    <tr>\n",
       "      <th>13035</th>\n",
       "      <th>Coffee Shop</th>\n",
       "      <td>4</td>\n",
       "    </tr>\n",
       "  </tbody>\n",
       "</table>\n",
       "</div>"
      ],
      "text/plain": [
       "                           total\n",
       "id    title                     \n",
       "13065 Restaurant              14\n",
       "13068 American Restaurant      6\n",
       "13031 Burger Joint             5\n",
       "13002 Bakery                   5\n",
       "13035 Coffee Shop              4"
      ]
     },
     "execution_count": 47,
     "metadata": {},
     "output_type": "execute_result"
    }
   ],
   "source": [
    "#make a function that returns venue names for all venue types and total venue amount\n",
    "def get_venues_four(location, category):\n",
    "    \"\"\" intakes: string of lat, long location \n",
    "        returns: int representing how many bars are within 5km of the crash\n",
    "    ex: get_venues('45.6387,-122.6615') -> 8\"\"\"\n",
    "    \n",
    "    #get data relevent to input location\n",
    "    response = re.get(root_endpoint_four, \n",
    "                      params={'ll': location, 'radius': 1000, 'categories': category, 'limit': 50}, \n",
    "                      headers = headers_four)\n",
    "    result = response.json()\n",
    "    \n",
    "    #define empty objects\n",
    "    category_amount = 0\n",
    "    venues = {'id': [],\n",
    "              'title': []\n",
    "    }\n",
    "    \n",
    "    #cycle into data to get place type\n",
    "    for place in result['results']:\n",
    "        \n",
    "        #go into every type a place is\n",
    "        for p_type in place['categories']:\n",
    "    \n",
    "            category_amount +=1 \n",
    "            venues['title'].append(p_type['name'])\n",
    "            venues['id'].append(p_type['id'])\n",
    "\n",
    "    #save venues into data frame and count values\n",
    "    venues_df = pd.DataFrame(venues).value_counts()\n",
    "    #return a database of the venue names and an integer of total tagged with that id\n",
    "    return pd.DataFrame(venues_df, columns=['total'])\n",
    "\n",
    "test_df = get_venues_four('45.6387,-122.6615', 13000)\n",
    "test_df.head()"
   ]
  },
  {
   "cell_type": "markdown",
   "id": "5030bf89-610f-44a9-bb4f-da8f32b0bb6e",
   "metadata": {},
   "source": [
    "### Yelp API\n",
    "\n",
    "Since this the first time working with it let's start by setting a test result and looking at the return"
   ]
  },
  {
   "cell_type": "code",
   "execution_count": 5,
   "id": "3a0ce393-dd28-4f3b-85d7-bfe6a10db887",
   "metadata": {},
   "outputs": [],
   "source": [
    "#define api url elements\n",
    "root_endpoint_yelp = \"https://api.yelp.com/v3/businesses/search\"\n",
    "\n",
    "#set api key\n",
    "yelp_key = os.environ[\"YELP_API\"]\n",
    "\n",
    "headers_yelp = {\n",
    "    \"Authorization\": f\"Bearer {yelp_key}\"\n",
    "}"
   ]
  },
  {
   "cell_type": "code",
   "execution_count": 67,
   "id": "5b116cd4-11c8-4fe7-91f5-cba1aad32b23",
   "metadata": {},
   "outputs": [
    {
     "name": "stdout",
     "output_type": "stream",
     "text": [
      "200\n"
     ]
    }
   ],
   "source": [
    "#Test out retrieving API info\n",
    "response = re.get(root_endpoint_yelp, \n",
    "                  params = {'latitude': 45.6387, \n",
    "                            'longitude':-122.6615,\n",
    "                            'categories':'restaurants, All'},\n",
    "                  headers = headers_yelp)\n",
    "\n",
    "#make sure it works\n",
    "print(response.status_code)\n",
    "\n",
    "#convert into json (nested list of dictionaries)\n",
    "result = response.json()"
   ]
  },
  {
   "cell_type": "code",
   "execution_count": 68,
   "id": "25fcd74d-9b0f-4d77-a018-969a57915f01",
   "metadata": {},
   "outputs": [
    {
     "data": {
      "application/json": [
       {
        "alias": "brewed-cafe-and-pub-vancouver",
        "categories": [
         {
          "alias": "coffee",
          "title": "Coffee & Tea"
         },
         {
          "alias": "pubs",
          "title": "Pubs"
         },
         {
          "alias": "cafes",
          "title": "Cafes"
         }
        ],
        "coordinates": {
         "latitude": 45.6258544921875,
         "longitude": -122.671340942383
        },
        "display_phone": "(360) 597-3386",
        "distance": 1620.63555843194,
        "id": "Prp0oy6V21P24bdvQ0Vhzw",
        "image_url": "https://s3-media1.fl.yelpcdn.com/bphoto/853h9tKjt7GYNXYngbsL-A/o.jpg",
        "is_closed": false,
        "location": {
         "address1": "603 Main St",
         "address2": null,
         "address3": "",
         "city": "Vancouver",
         "country": "US",
         "display_address": [
          "603 Main St",
          "Vancouver, WA 98660"
         ],
         "state": "WA",
         "zip_code": "98660"
        },
        "name": "Brewed Cafe & Pub",
        "phone": "+13605973386",
        "price": "$",
        "rating": 4.5,
        "review_count": 382,
        "transactions": [
         "delivery"
        ],
        "url": "https://www.yelp.com/biz/brewed-cafe-and-pub-vancouver?adjust_creative=HJQhR5t4Y4QUXLptr6Oemg&utm_campaign=yelp_api_v3&utm_medium=api_v3_business_search&utm_source=HJQhR5t4Y4QUXLptr6Oemg"
       },
       {
        "alias": "bleu-door-bakery-vancouver",
        "categories": [
         {
          "alias": "bakeries",
          "title": "Bakeries"
         },
         {
          "alias": "coffee",
          "title": "Coffee & Tea"
         },
         {
          "alias": "breakfast_brunch",
          "title": "Breakfast & Brunch"
         }
        ],
        "coordinates": {
         "latitude": 45.6390397,
         "longitude": -122.6712256
        },
        "display_phone": "(360) 693-2538",
        "distance": 757.0598099745614,
        "id": "NBICv9HiNqtRJOgR5-2OeQ",
        "image_url": "https://s3-media1.fl.yelpcdn.com/bphoto/qV2tayQhZJo4Qi3FpOvh7Q/o.jpg",
        "is_closed": false,
        "location": {
         "address1": "2411 Main St",
         "address2": null,
         "address3": "",
         "city": "Vancouver",
         "country": "US",
         "display_address": [
          "2411 Main St",
          "Vancouver, WA 98660"
         ],
         "state": "WA",
         "zip_code": "98660"
        },
        "name": "Bleu Door Bakery",
        "phone": "+13606932538",
        "price": "$$",
        "rating": 4.5,
        "review_count": 363,
        "transactions": [
         "delivery"
        ],
        "url": "https://www.yelp.com/biz/bleu-door-bakery-vancouver?adjust_creative=HJQhR5t4Y4QUXLptr6Oemg&utm_campaign=yelp_api_v3&utm_medium=api_v3_business_search&utm_source=HJQhR5t4Y4QUXLptr6Oemg"
       },
       {
        "alias": "la-bottega-vancouver-2",
        "categories": [
         {
          "alias": "delis",
          "title": "Delis"
         },
         {
          "alias": "wine_bars",
          "title": "Wine Bars"
         },
         {
          "alias": "italian",
          "title": "Italian"
         }
        ],
        "coordinates": {
         "latitude": 45.6358283,
         "longitude": -122.6713651
        },
        "display_phone": "(360) 571-5010",
        "distance": 813.0699678493876,
        "id": "eY3-ZE8-njGOglACqFYqVQ",
        "image_url": "https://s3-media1.fl.yelpcdn.com/bphoto/zvcuLyVbl23UPHgT1z3FWw/o.jpg",
        "is_closed": false,
        "location": {
         "address1": "1905 Main St",
         "address2": "",
         "address3": "",
         "city": "Vancouver",
         "country": "US",
         "display_address": [
          "1905 Main St",
          "Vancouver, WA 98660"
         ],
         "state": "WA",
         "zip_code": "98660"
        },
        "name": "La Bottega",
        "phone": "+13605715010",
        "price": "$$",
        "rating": 4.5,
        "review_count": 421,
        "transactions": [
         "delivery"
        ],
        "url": "https://www.yelp.com/biz/la-bottega-vancouver-2?adjust_creative=HJQhR5t4Y4QUXLptr6Oemg&utm_campaign=yelp_api_v3&utm_medium=api_v3_business_search&utm_source=HJQhR5t4Y4QUXLptr6Oemg"
       },
       {
        "alias": "amaros-table-vancouver-2",
        "categories": [
         {
          "alias": "newamerican",
          "title": "American (New)"
         },
         {
          "alias": "bars",
          "title": "Bars"
         }
        ],
        "coordinates": {
         "latitude": 45.6304346323618,
         "longitude": -122.671697
        },
        "display_phone": "(360) 718-2942",
        "distance": 1213.7777660090374,
        "id": "g_BPftmJpuu2yEYaBS6yLQ",
        "image_url": "https://s3-media2.fl.yelpcdn.com/bphoto/jxOObLJkAPs1kVJNULUEmg/o.jpg",
        "is_closed": false,
        "location": {
         "address1": "1220 Main St",
         "address2": "Ste 100",
         "address3": "",
         "city": "Vancouver",
         "country": "US",
         "display_address": [
          "1220 Main St",
          "Ste 100",
          "Vancouver, WA 98660"
         ],
         "state": "WA",
         "zip_code": "98660"
        },
        "name": "Amaro's Table",
        "phone": "+13607182942",
        "price": "$$",
        "rating": 4.5,
        "review_count": 405,
        "transactions": [
         "delivery"
        ],
        "url": "https://www.yelp.com/biz/amaros-table-vancouver-2?adjust_creative=HJQhR5t4Y4QUXLptr6Oemg&utm_campaign=yelp_api_v3&utm_medium=api_v3_business_search&utm_source=HJQhR5t4Y4QUXLptr6Oemg"
       },
       {
        "alias": "thai-orchid-restaurant-vancouver-2",
        "categories": [
         {
          "alias": "sushi",
          "title": "Sushi Bars"
         },
         {
          "alias": "thai",
          "title": "Thai"
         }
        ],
        "coordinates": {
         "latitude": 45.6295205,
         "longitude": -122.6728246
        },
        "display_phone": "(360) 695-7786",
        "distance": 1348.0152626721167,
        "id": "JkhXi-3RJtmUTlkjrSdWSw",
        "image_url": "https://s3-media4.fl.yelpcdn.com/bphoto/Lm0mHDJfThalZ7xbVwXiEQ/o.jpg",
        "is_closed": false,
        "location": {
         "address1": "213 W 11th St",
         "address2": "",
         "address3": "",
         "city": "Vancouver",
         "country": "US",
         "display_address": [
          "213 W 11th St",
          "Vancouver, WA 98660"
         ],
         "state": "WA",
         "zip_code": "98660"
        },
        "name": "Thai Orchid Restaurant",
        "phone": "+13606957786",
        "price": "$$",
        "rating": 4,
        "review_count": 688,
        "transactions": [
         "delivery",
         "pickup"
        ],
        "url": "https://www.yelp.com/biz/thai-orchid-restaurant-vancouver-2?adjust_creative=HJQhR5t4Y4QUXLptr6Oemg&utm_campaign=yelp_api_v3&utm_medium=api_v3_business_search&utm_source=HJQhR5t4Y4QUXLptr6Oemg"
       },
       {
        "alias": "dulins-village-cafe-vancouver-2",
        "categories": [
         {
          "alias": "newamerican",
          "title": "American (New)"
         },
         {
          "alias": "breakfast_brunch",
          "title": "Breakfast & Brunch"
         },
         {
          "alias": "sandwiches",
          "title": "Sandwiches"
         }
        ],
        "coordinates": {
         "latitude": 45.6365882390005,
         "longitude": -122.67118663884
        },
        "display_phone": "(360) 737-9907",
        "distance": 788.8631666901771,
        "id": "lD-xYJUeOa293piQmGz4kw",
        "image_url": "https://s3-media2.fl.yelpcdn.com/bphoto/bIExvxyfp7mw2tDa_5z09A/o.jpg",
        "is_closed": false,
        "location": {
         "address1": "1929 Main St",
         "address2": "",
         "address3": "",
         "city": "Vancouver",
         "country": "US",
         "display_address": [
          "1929 Main St",
          "Vancouver, WA 98660"
         ],
         "state": "WA",
         "zip_code": "98660"
        },
        "name": "Dulin's Village Cafe",
        "phone": "+13607379907",
        "price": "$$",
        "rating": 4.5,
        "review_count": 293,
        "transactions": [
         "delivery"
        ],
        "url": "https://www.yelp.com/biz/dulins-village-cafe-vancouver-2?adjust_creative=HJQhR5t4Y4QUXLptr6Oemg&utm_campaign=yelp_api_v3&utm_medium=api_v3_business_search&utm_source=HJQhR5t4Y4QUXLptr6Oemg"
       },
       {
        "alias": "nom-nom-restaurant-and-grill-vancouver",
        "categories": [
         {
          "alias": "vietnamese",
          "title": "Vietnamese"
         },
         {
          "alias": "thai",
          "title": "Thai"
         },
         {
          "alias": "gluten_free",
          "title": "Gluten-Free"
         }
        ],
        "coordinates": {
         "latitude": 45.62735104563156,
         "longitude": -122.66922379999998
        },
        "display_phone": "(360) 718-7360",
        "distance": 1397.5565537045545,
        "id": "TfWcRkBUAqVIW10zaM3lzw",
        "image_url": "https://s3-media3.fl.yelpcdn.com/bphoto/vTlMnz4m2ZUEcNf26QxYnA/o.jpg",
        "is_closed": false,
        "location": {
         "address1": "801 C St",
         "address2": "",
         "address3": null,
         "city": "Vancouver",
         "country": "US",
         "display_address": [
          "801 C St",
          "Vancouver, WA 98660"
         ],
         "state": "WA",
         "zip_code": "98660"
        },
        "name": "NOM NOM Restaurant & Grill",
        "phone": "+13607187360",
        "price": "$$",
        "rating": 4,
        "review_count": 460,
        "transactions": [
         "delivery",
         "pickup"
        ],
        "url": "https://www.yelp.com/biz/nom-nom-restaurant-and-grill-vancouver?adjust_creative=HJQhR5t4Y4QUXLptr6Oemg&utm_campaign=yelp_api_v3&utm_medium=api_v3_business_search&utm_source=HJQhR5t4Y4QUXLptr6Oemg"
       },
       {
        "alias": "elements-restaurant-vancouver",
        "categories": [
         {
          "alias": "newamerican",
          "title": "American (New)"
         },
         {
          "alias": "seafood",
          "title": "Seafood"
         },
         {
          "alias": "steak",
          "title": "Steakhouses"
         }
        ],
        "coordinates": {
         "latitude": 45.6283131666861,
         "longitude": -122.671506
        },
        "display_phone": "(360) 258-0989",
        "distance": 1392.5541430535493,
        "id": "3XO0ZkbgRdLlLLDuxRM0CQ",
        "image_url": "https://s3-media3.fl.yelpcdn.com/bphoto/W5qbogVFmyYVzM-Gd1eYKg/o.jpg",
        "is_closed": false,
        "location": {
         "address1": "907 Main St",
         "address2": "",
         "address3": "",
         "city": "Vancouver",
         "country": "US",
         "display_address": [
          "907 Main St",
          "Vancouver, WA 98660"
         ],
         "state": "WA",
         "zip_code": "98660"
        },
        "name": "Elements Restaurant",
        "phone": "+13602580989",
        "price": "$$$",
        "rating": 4.5,
        "review_count": 385,
        "transactions": [
         "delivery"
        ],
        "url": "https://www.yelp.com/biz/elements-restaurant-vancouver?adjust_creative=HJQhR5t4Y4QUXLptr6Oemg&utm_campaign=yelp_api_v3&utm_medium=api_v3_business_search&utm_source=HJQhR5t4Y4QUXLptr6Oemg"
       },
       {
        "alias": "sushi-mo-vancouver",
        "categories": [
         {
          "alias": "sushi",
          "title": "Sushi Bars"
         },
         {
          "alias": "japanese",
          "title": "Japanese"
         }
        ],
        "coordinates": {
         "latitude": 45.6293,
         "longitude": -122.67305
        },
        "display_phone": "(360) 953-8860",
        "distance": 1376.50490890208,
        "id": "Grqx6T12e25dBZrBAUwgCA",
        "image_url": "https://s3-media4.fl.yelpcdn.com/bphoto/QBy_GtFlFioIuvi0xahxoA/o.jpg",
        "is_closed": false,
        "location": {
         "address1": "1012 Washington St",
         "address2": "Ste 140",
         "address3": "",
         "city": "Vancouver",
         "country": "US",
         "display_address": [
          "1012 Washington St",
          "Ste 140",
          "Vancouver, WA 98660"
         ],
         "state": "WA",
         "zip_code": "98660"
        },
        "name": "Sushi Mo",
        "phone": "+13609538860",
        "price": "$$",
        "rating": 4,
        "review_count": 396,
        "transactions": [
         "delivery",
         "pickup"
        ],
        "url": "https://www.yelp.com/biz/sushi-mo-vancouver?adjust_creative=HJQhR5t4Y4QUXLptr6Oemg&utm_campaign=yelp_api_v3&utm_medium=api_v3_business_search&utm_source=HJQhR5t4Y4QUXLptr6Oemg"
       },
       {
        "alias": "thai-wok-kitchen-vancouver",
        "categories": [
         {
          "alias": "thai",
          "title": "Thai"
         },
         {
          "alias": "diners",
          "title": "Diners"
         },
         {
          "alias": "seafood",
          "title": "Seafood"
         }
        ],
        "coordinates": {
         "latitude": 45.6412270338292,
         "longitude": -122.617569848796
        },
        "display_phone": "(360) 852-8103",
        "distance": 3426.8233550338687,
        "id": "IMYh4LJm1ubY5Lw3rz-aqA",
        "image_url": "https://s3-media1.fl.yelpcdn.com/bphoto/DTGvv8iVLUnTn_cL51DM2Q/o.jpg",
        "is_closed": false,
        "location": {
         "address1": "5000 E 4th Plain Blvd",
         "address2": "Ste A101",
         "address3": "",
         "city": "Vancouver",
         "country": "US",
         "display_address": [
          "5000 E 4th Plain Blvd",
          "Ste A101",
          "Vancouver, WA 98661"
         ],
         "state": "WA",
         "zip_code": "98661"
        },
        "name": "Thai Wok Kitchen",
        "phone": "+13608528103",
        "price": "$$",
        "rating": 4.5,
        "review_count": 590,
        "transactions": [
         "delivery",
         "pickup"
        ],
        "url": "https://www.yelp.com/biz/thai-wok-kitchen-vancouver?adjust_creative=HJQhR5t4Y4QUXLptr6Oemg&utm_campaign=yelp_api_v3&utm_medium=api_v3_business_search&utm_source=HJQhR5t4Y4QUXLptr6Oemg"
       },
       {
        "alias": "little-conejo-vancouver",
        "categories": [
         {
          "alias": "mexican",
          "title": "Mexican"
         },
         {
          "alias": "bars",
          "title": "Bars"
         }
        ],
        "coordinates": {
         "latitude": 45.62580646015779,
         "longitude": -122.67249697218331
        },
        "display_phone": "(360) 718-2633",
        "distance": 1669.3139520807981,
        "id": "orww93GoyE5Z2a06L7KxoQ",
        "image_url": "https://s3-media3.fl.yelpcdn.com/bphoto/uGGXCsWoeN3gBhNu4BdpWw/o.jpg",
        "is_closed": false,
        "location": {
         "address1": "114 W 6th St",
         "address2": "",
         "address3": null,
         "city": "Vancouver",
         "country": "US",
         "display_address": [
          "114 W 6th St",
          "Vancouver, WA 98660"
         ],
         "state": "WA",
         "zip_code": "98660"
        },
        "name": "Little Conejo",
        "phone": "+13607182633",
        "price": "$$",
        "rating": 4,
        "review_count": 457,
        "transactions": [
         "delivery"
        ],
        "url": "https://www.yelp.com/biz/little-conejo-vancouver?adjust_creative=HJQhR5t4Y4QUXLptr6Oemg&utm_campaign=yelp_api_v3&utm_medium=api_v3_business_search&utm_source=HJQhR5t4Y4QUXLptr6Oemg"
       },
       {
        "alias": "dediko-vancouver",
        "categories": [
         {
          "alias": "georgian",
          "title": "Georgian"
         }
        ],
        "coordinates": {
         "latitude": 45.6290222924509,
         "longitude": -122.673617082594
        },
        "display_phone": "(360) 314-4370",
        "distance": 1430.250890217719,
        "id": "Js-kSYAOINRIKErjCS9RMQ",
        "image_url": "https://s3-media1.fl.yelpcdn.com/bphoto/vmvkl6H4aik4fGalrdKCMw/o.jpg",
        "is_closed": false,
        "location": {
         "address1": "210 W Evergreen Blvd",
         "address2": null,
         "address3": "",
         "city": "Vancouver",
         "country": "US",
         "display_address": [
          "210 W Evergreen Blvd",
          "Vancouver, WA 98660"
         ],
         "state": "WA",
         "zip_code": "98660"
        },
        "name": "DEDIKo",
        "phone": "+13603144370",
        "price": "$$",
        "rating": 4.5,
        "review_count": 129,
        "transactions": [
         "delivery"
        ],
        "url": "https://www.yelp.com/biz/dediko-vancouver?adjust_creative=HJQhR5t4Y4QUXLptr6Oemg&utm_campaign=yelp_api_v3&utm_medium=api_v3_business_search&utm_source=HJQhR5t4Y4QUXLptr6Oemg"
       },
       {
        "alias": "tap-union-freehouse-vancouver",
        "categories": [
         {
          "alias": "sandwiches",
          "title": "Sandwiches"
         },
         {
          "alias": "tradamerican",
          "title": "American (Traditional)"
         },
         {
          "alias": "tapasmallplates",
          "title": "Tapas/Small Plates"
         }
        ],
        "coordinates": {
         "latitude": 45.6311660135856,
         "longitude": -122.673107837403
        },
        "display_phone": "(360) 726-6921",
        "distance": 1231.3982433507506,
        "id": "x8I-jtcrALud9BZGypOcOA",
        "image_url": "https://s3-media1.fl.yelpcdn.com/bphoto/JQWLyPcUe24KIk4ZLUNQ7g/o.jpg",
        "is_closed": false,
        "location": {
         "address1": "1300 Washington St",
         "address2": "Ste B",
         "address3": "",
         "city": "Vancouver",
         "country": "US",
         "display_address": [
          "1300 Washington St",
          "Ste B",
          "Vancouver, WA 98660"
         ],
         "state": "WA",
         "zip_code": "98660"
        },
        "name": "Tap Union Freehouse",
        "phone": "+13607266921",
        "price": "$$",
        "rating": 4.5,
        "review_count": 145,
        "transactions": [
         "delivery"
        ],
        "url": "https://www.yelp.com/biz/tap-union-freehouse-vancouver?adjust_creative=HJQhR5t4Y4QUXLptr6Oemg&utm_campaign=yelp_api_v3&utm_medium=api_v3_business_search&utm_source=HJQhR5t4Y4QUXLptr6Oemg"
       },
       {
        "alias": "frontier-public-house-vancouver-2",
        "categories": [
         {
          "alias": "newamerican",
          "title": "American (New)"
         },
         {
          "alias": "cocktailbars",
          "title": "Cocktail Bars"
         },
         {
          "alias": "bbq",
          "title": "Barbeque"
         }
        ],
        "coordinates": {
         "latitude": 45.65746167,
         "longitude": -122.66638
        },
        "display_phone": "(360) 718-2768",
        "distance": 2120.406809623414,
        "id": "rgGJMwcrNTuCcY493q_YuA",
        "image_url": "https://s3-media3.fl.yelpcdn.com/bphoto/jMaaIm6x7JddhaIRVdhuTw/o.jpg",
        "is_closed": false,
        "location": {
         "address1": "4909 NE Hazel Dell Ave",
         "address2": "",
         "address3": "",
         "city": "Vancouver",
         "country": "US",
         "display_address": [
          "4909 NE Hazel Dell Ave",
          "Vancouver, WA 98663"
         ],
         "state": "WA",
         "zip_code": "98663"
        },
        "name": "Frontier Public House",
        "phone": "+13607182768",
        "price": "$$",
        "rating": 4,
        "review_count": 443,
        "transactions": [
         "delivery",
         "pickup"
        ],
        "url": "https://www.yelp.com/biz/frontier-public-house-vancouver-2?adjust_creative=HJQhR5t4Y4QUXLptr6Oemg&utm_campaign=yelp_api_v3&utm_medium=api_v3_business_search&utm_source=HJQhR5t4Y4QUXLptr6Oemg"
       },
       {
        "alias": "mon-ami-vancouver-2",
        "categories": [
         {
          "alias": "coffee",
          "title": "Coffee & Tea"
         },
         {
          "alias": "breakfast_brunch",
          "title": "Breakfast & Brunch"
         },
         {
          "alias": "french",
          "title": "French"
         }
        ],
        "coordinates": {
         "latitude": 45.63586,
         "longitude": -122.67176
        },
        "display_phone": "(360) 750-5693",
        "distance": 855.1097755226953,
        "id": "oGSAgz8qWEb-C_P9dgxVNQ",
        "image_url": "https://s3-media4.fl.yelpcdn.com/bphoto/tvM2v5xf6KYUNtzLMVrERw/o.jpg",
        "is_closed": false,
        "location": {
         "address1": "1906 Main St",
         "address2": "",
         "address3": "",
         "city": "Vancouver",
         "country": "US",
         "display_address": [
          "1906 Main St",
          "Vancouver, WA 98660"
         ],
         "state": "WA",
         "zip_code": "98660"
        },
        "name": "Mon Ami",
        "phone": "+13607505693",
        "price": "$",
        "rating": 4,
        "review_count": 239,
        "transactions": [
         "delivery",
         "pickup"
        ],
        "url": "https://www.yelp.com/biz/mon-ami-vancouver-2?adjust_creative=HJQhR5t4Y4QUXLptr6Oemg&utm_campaign=yelp_api_v3&utm_medium=api_v3_business_search&utm_source=HJQhR5t4Y4QUXLptr6Oemg"
       },
       {
        "alias": "the-smokin-oak-pit-and-drinkery-vancouver",
        "categories": [
         {
          "alias": "bbq",
          "title": "Barbeque"
         },
         {
          "alias": "bars",
          "title": "Bars"
         },
         {
          "alias": "sandwiches",
          "title": "Sandwiches"
         }
        ],
        "coordinates": {
         "latitude": 45.6250765,
         "longitude": -122.6736472
        },
        "display_phone": "(360) 433-2755",
        "distance": 1778.8699311976466,
        "id": "IqFl9kEshhhXlnfG4ucdfw",
        "image_url": "https://s3-media2.fl.yelpcdn.com/bphoto/9nJzGyPBPl-uaocBnbwH-g/o.jpg",
        "is_closed": false,
        "location": {
         "address1": "501 Columbia St",
         "address2": "",
         "address3": null,
         "city": "Vancouver",
         "country": "US",
         "display_address": [
          "501 Columbia St",
          "Vancouver, WA 98660"
         ],
         "state": "WA",
         "zip_code": "98660"
        },
        "name": "The Smokin' Oak Pit and Drinkery",
        "phone": "+13604332755",
        "price": "$$",
        "rating": 4,
        "review_count": 517,
        "transactions": [
         "delivery"
        ],
        "url": "https://www.yelp.com/biz/the-smokin-oak-pit-and-drinkery-vancouver?adjust_creative=HJQhR5t4Y4QUXLptr6Oemg&utm_campaign=yelp_api_v3&utm_medium=api_v3_business_search&utm_source=HJQhR5t4Y4QUXLptr6Oemg"
       },
       {
        "alias": "the-mighty-bowl-vancouver",
        "categories": [
         {
          "alias": "juicebars",
          "title": "Juice Bars & Smoothies"
         },
         {
          "alias": "gluten_free",
          "title": "Gluten-Free"
         }
        ],
        "coordinates": {
         "latitude": 45.6274064,
         "longitude": -122.6722963
        },
        "display_phone": "(360) 433-9925",
        "distance": 1510.521938250359,
        "id": "RQevAULOmbqybBeWJu_8UA",
        "image_url": "https://s3-media4.fl.yelpcdn.com/bphoto/YXwKVqbVJAdmtaG6sWR11Q/o.jpg",
        "is_closed": false,
        "location": {
         "address1": "108 W 8th St",
         "address2": "",
         "address3": "",
         "city": "Vancouver",
         "country": "US",
         "display_address": [
          "108 W 8th St",
          "Vancouver, WA 98660"
         ],
         "state": "WA",
         "zip_code": "98660"
        },
        "name": "The Mighty Bowl",
        "phone": "+13604339925",
        "price": "$$",
        "rating": 4.5,
        "review_count": 214,
        "transactions": [
         "delivery",
         "pickup"
        ],
        "url": "https://www.yelp.com/biz/the-mighty-bowl-vancouver?adjust_creative=HJQhR5t4Y4QUXLptr6Oemg&utm_campaign=yelp_api_v3&utm_medium=api_v3_business_search&utm_source=HJQhR5t4Y4QUXLptr6Oemg"
       },
       {
        "alias": "joe-browns-cafe-vancouver",
        "categories": [
         {
          "alias": "diners",
          "title": "Diners"
         },
         {
          "alias": "breakfast_brunch",
          "title": "Breakfast & Brunch"
         }
        ],
        "coordinates": {
         "latitude": 45.6274572014809,
         "longitude": -122.671570256352
        },
        "display_phone": "(360) 693-6375",
        "distance": 1441.1594275975533,
        "id": "XDSgG3wcUlgIYpaVfXzlYw",
        "image_url": "https://s3-media2.fl.yelpcdn.com/bphoto/wCYKnQhCxewOKVEQncAtVw/o.jpg",
        "is_closed": false,
        "location": {
         "address1": "817 Main St",
         "address2": "",
         "address3": "",
         "city": "Vancouver",
         "country": "US",
         "display_address": [
          "817 Main St",
          "Vancouver, WA 98660"
         ],
         "state": "WA",
         "zip_code": "98660"
        },
        "name": "Joe Brown's Cafe",
        "phone": "+13606936375",
        "price": "$",
        "rating": 4,
        "review_count": 272,
        "transactions": [
         "delivery",
         "pickup"
        ],
        "url": "https://www.yelp.com/biz/joe-browns-cafe-vancouver?adjust_creative=HJQhR5t4Y4QUXLptr6Oemg&utm_campaign=yelp_api_v3&utm_medium=api_v3_business_search&utm_source=HJQhR5t4Y4QUXLptr6Oemg"
       },
       {
        "alias": "ingrids-goodstreetfood-and-paleo-grill-vancouver-2",
        "categories": [
         {
          "alias": "mediterranean",
          "title": "Mediterranean"
         },
         {
          "alias": "foodtrucks",
          "title": "Food Trucks"
         }
        ],
        "coordinates": {
         "latitude": 45.63432,
         "longitude": -122.6702026
        },
        "display_phone": "(360) 921-7802",
        "distance": 833.6699020290623,
        "id": "qte6SyniiOph2hHBFBqU6g",
        "image_url": "https://s3-media1.fl.yelpcdn.com/bphoto/rGcDV-aWia3EWMtJGv_HYA/o.jpg",
        "is_closed": false,
        "location": {
         "address1": "1701 Broadway St",
         "address2": null,
         "address3": "",
         "city": "Vancouver",
         "country": "US",
         "display_address": [
          "1701 Broadway St",
          "Vancouver, WA 98663"
         ],
         "state": "WA",
         "zip_code": "98663"
        },
        "name": "Ingrid's GoodStreetFood & Paleo Grill",
        "phone": "+13609217802",
        "price": "$$",
        "rating": 5,
        "review_count": 59,
        "transactions": [
         "delivery"
        ],
        "url": "https://www.yelp.com/biz/ingrids-goodstreetfood-and-paleo-grill-vancouver-2?adjust_creative=HJQhR5t4Y4QUXLptr6Oemg&utm_campaign=yelp_api_v3&utm_medium=api_v3_business_search&utm_source=HJQhR5t4Y4QUXLptr6Oemg"
       },
       {
        "alias": "main-event-sports-grill-vancouver",
        "categories": [
         {
          "alias": "sportsbars",
          "title": "Sports Bars"
         },
         {
          "alias": "tradamerican",
          "title": "American (Traditional)"
         }
        ],
        "coordinates": {
         "latitude": 45.6274,
         "longitude": -122.67199
        },
        "display_phone": "(360) 448-7146",
        "distance": 1493.1278034222871,
        "id": "BDX4VYxx_DpuAEnNYKYYZQ",
        "image_url": "https://s3-media4.fl.yelpcdn.com/bphoto/ICGU2GQXu4hVynax55kUvw/o.jpg",
        "is_closed": false,
        "location": {
         "address1": "800 Main St",
         "address2": null,
         "address3": "",
         "city": "Vancouver",
         "country": "US",
         "display_address": [
          "800 Main St",
          "Vancouver, WA 98660"
         ],
         "state": "WA",
         "zip_code": "98660"
        },
        "name": "Main Event Sports Grill",
        "phone": "+13604487146",
        "price": "$$",
        "rating": 4,
        "review_count": 350,
        "transactions": [
         "delivery"
        ],
        "url": "https://www.yelp.com/biz/main-event-sports-grill-vancouver?adjust_creative=HJQhR5t4Y4QUXLptr6Oemg&utm_campaign=yelp_api_v3&utm_medium=api_v3_business_search&utm_source=HJQhR5t4Y4QUXLptr6Oemg"
       }
      ],
      "text/plain": [
       "<IPython.core.display.JSON object>"
      ]
     },
     "execution_count": 68,
     "metadata": {
      "application/json": {
       "expanded": false,
       "root": "root"
      }
     },
     "output_type": "execute_result"
    }
   ],
   "source": [
    "#let's explore this result\n",
    "JSON(result['businesses'])"
   ]
  },
  {
   "cell_type": "code",
   "execution_count": 8,
   "id": "856c0dc0-0660-4f74-8a63-2327a373ffec",
   "metadata": {},
   "outputs": [],
   "source": [
    "#larger categories given by yelp\n",
    "#yelp_cat_ids = {'Active Life': 'active, All',"
   ]
  },
  {
   "cell_type": "code",
   "execution_count": 9,
   "id": "fcb485a9-006d-47a6-bcc9-dc34539908d8",
   "metadata": {},
   "outputs": [],
   "source": [
    "def get_venues_yelp(location, category):\n",
    "    \n",
    "    #Test out retrieving API info\n",
    "    response = re.get(root_endpoint_yelp, \n",
    "                  params = {'latitude': location[0], \n",
    "                            'longitude':location[1],\n",
    "                            'categories':category,\n",
    "                            'radius':1000},\n",
    "                  headers = headers_yelp)\n",
    "    \n",
    "    result = response.json()\n",
    "    \n",
    "    #define empty objects\n",
    "    venue_amount = 0\n",
    "    venues = []\n",
    "    \n",
    "    for place in result['businesses']:\n",
    "      \n",
    "        #print(i['categories'])\n",
    "        for venue_type in place['categories']:\n",
    "        \n",
    "            #print(venue_type['alias'])\n",
    "            venues.append(venue_type['title'])\n",
    "            venue_amount += 1\n",
    "        \n",
    "\n",
    "    #save venues into data frame and count values\n",
    "    venues_df = pd.DataFrame(venues, columns=['title']).value_counts()\n",
    "    #make dataframe look nice with proper index\n",
    "    return  pd.DataFrame(venues_df, columns=['total'])\n",
    "    \n",
    "    \n",
    "test_yelp_df = get_venues_yelp([45.6387,-122.6615], ['restaurants, All'])"
   ]
  },
  {
   "cell_type": "code",
   "execution_count": 10,
   "id": "94321ef9-22fb-499e-b377-d0079ac856bb",
   "metadata": {},
   "outputs": [
    {
     "name": "stdout",
     "output_type": "stream",
     "text": [
      "                        total\n",
      "title                        \n",
      "American (Traditional)      5\n",
      "Breakfast & Brunch          5\n",
      "Food Trucks                 4\n",
      "Coffee & Tea                3\n",
      "Sandwiches                  3\n",
      "American (New)              2\n",
      "Beer, Wine & Spirits        2\n",
      "Pubs                        2\n",
      "Pizza                       1\n",
      "Sushi Bars                  1\n",
      "Speakeasies                 1\n",
      "Mexican                     1\n",
      "Tapas/Small Plates          1\n",
      "Thai                        1\n",
      "Vietnamese                  1\n",
      "Waffles                     1\n",
      "Noodles                     1\n",
      "Italian                     1\n",
      "Mediterranean               1\n",
      "Japanese                    1\n",
      "Hot Dogs                    1\n",
      "French                      1\n",
      "Delis                       1\n",
      "Cocktail Bars               1\n",
      "Chinese                     1\n",
      "Burgers                     1\n",
      "Brewpubs                    1\n",
      "Bars                        1\n",
      "Bakeries                    1\n",
      "Wine Bars                   1\n"
     ]
    },
    {
     "data": {
      "text/html": [
       "<div>\n",
       "<style scoped>\n",
       "    .dataframe tbody tr th:only-of-type {\n",
       "        vertical-align: middle;\n",
       "    }\n",
       "\n",
       "    .dataframe tbody tr th {\n",
       "        vertical-align: top;\n",
       "    }\n",
       "\n",
       "    .dataframe thead th {\n",
       "        text-align: right;\n",
       "    }\n",
       "</style>\n",
       "<table border=\"1\" class=\"dataframe\">\n",
       "  <thead>\n",
       "    <tr style=\"text-align: right;\">\n",
       "      <th></th>\n",
       "      <th>total</th>\n",
       "    </tr>\n",
       "    <tr>\n",
       "      <th>title</th>\n",
       "      <th></th>\n",
       "    </tr>\n",
       "  </thead>\n",
       "  <tbody>\n",
       "    <tr>\n",
       "      <th>American (Traditional)</th>\n",
       "      <td>5</td>\n",
       "    </tr>\n",
       "    <tr>\n",
       "      <th>Breakfast &amp; Brunch</th>\n",
       "      <td>5</td>\n",
       "    </tr>\n",
       "    <tr>\n",
       "      <th>Food Trucks</th>\n",
       "      <td>4</td>\n",
       "    </tr>\n",
       "    <tr>\n",
       "      <th>Coffee &amp; Tea</th>\n",
       "      <td>3</td>\n",
       "    </tr>\n",
       "    <tr>\n",
       "      <th>Sandwiches</th>\n",
       "      <td>3</td>\n",
       "    </tr>\n",
       "    <tr>\n",
       "      <th>American (New)</th>\n",
       "      <td>2</td>\n",
       "    </tr>\n",
       "    <tr>\n",
       "      <th>Beer, Wine &amp; Spirits</th>\n",
       "      <td>2</td>\n",
       "    </tr>\n",
       "    <tr>\n",
       "      <th>Pubs</th>\n",
       "      <td>2</td>\n",
       "    </tr>\n",
       "    <tr>\n",
       "      <th>Pizza</th>\n",
       "      <td>1</td>\n",
       "    </tr>\n",
       "    <tr>\n",
       "      <th>Sushi Bars</th>\n",
       "      <td>1</td>\n",
       "    </tr>\n",
       "    <tr>\n",
       "      <th>Speakeasies</th>\n",
       "      <td>1</td>\n",
       "    </tr>\n",
       "    <tr>\n",
       "      <th>Mexican</th>\n",
       "      <td>1</td>\n",
       "    </tr>\n",
       "    <tr>\n",
       "      <th>Tapas/Small Plates</th>\n",
       "      <td>1</td>\n",
       "    </tr>\n",
       "    <tr>\n",
       "      <th>Thai</th>\n",
       "      <td>1</td>\n",
       "    </tr>\n",
       "    <tr>\n",
       "      <th>Vietnamese</th>\n",
       "      <td>1</td>\n",
       "    </tr>\n",
       "    <tr>\n",
       "      <th>Waffles</th>\n",
       "      <td>1</td>\n",
       "    </tr>\n",
       "    <tr>\n",
       "      <th>Noodles</th>\n",
       "      <td>1</td>\n",
       "    </tr>\n",
       "    <tr>\n",
       "      <th>Italian</th>\n",
       "      <td>1</td>\n",
       "    </tr>\n",
       "    <tr>\n",
       "      <th>Mediterranean</th>\n",
       "      <td>1</td>\n",
       "    </tr>\n",
       "    <tr>\n",
       "      <th>Japanese</th>\n",
       "      <td>1</td>\n",
       "    </tr>\n",
       "  </tbody>\n",
       "</table>\n",
       "</div>"
      ],
      "text/plain": [
       "                        total\n",
       "title                        \n",
       "American (Traditional)      5\n",
       "Breakfast & Brunch          5\n",
       "Food Trucks                 4\n",
       "Coffee & Tea                3\n",
       "Sandwiches                  3\n",
       "American (New)              2\n",
       "Beer, Wine & Spirits        2\n",
       "Pubs                        2\n",
       "Pizza                       1\n",
       "Sushi Bars                  1\n",
       "Speakeasies                 1\n",
       "Mexican                     1\n",
       "Tapas/Small Plates          1\n",
       "Thai                        1\n",
       "Vietnamese                  1\n",
       "Waffles                     1\n",
       "Noodles                     1\n",
       "Italian                     1\n",
       "Mediterranean               1\n",
       "Japanese                    1"
      ]
     },
     "execution_count": 10,
     "metadata": {},
     "output_type": "execute_result"
    }
   ],
   "source": [
    "print(test_yelp_df)\n",
    "test_yelp_df.head(20)"
   ]
  },
  {
   "cell_type": "markdown",
   "id": "dfbdb4c7-7e1a-4105-98ef-f812dc6c91a8",
   "metadata": {
    "tags": []
   },
   "source": [
    "### Larger data sets\n",
    "\n",
    "I have the basics for generating API info. But I want to get venue amounts for a bunch of different categories and create one big table, one for foursquare, one for yelp.\n",
    "\n",
    "Then table that will relate yelp venue titles and foursquare venue titles"
   ]
  },
  {
   "cell_type": "code",
   "execution_count": 11,
   "id": "b9da3ab0-69cb-4494-8aee-ec6159e57b64",
   "metadata": {},
   "outputs": [],
   "source": [
    "#Let's define the foursquare venue list we'll be using\n",
    "foursquare_cat = {'Arts and Entertainment': 10000,\n",
    "                  'Dining and Drinking': 13000,\n",
    "                  'Health and Medicine': 15000,\n",
    "                  'Landmarks and Outdoors': 16000\n",
    "                 }\n",
    "\n",
    "yelp_cat = {'Arts and Entertainment': 'arts, All',\n",
    "            'Dining and Drinking': 'restaurants, All',\n",
    "            'Health and Medicine': 'health, All',\n",
    "            'Landmarks and Outdoors': 'entertainment, All'\n",
    "                 }"
   ]
  },
  {
   "cell_type": "code",
   "execution_count": 48,
   "id": "0fdb5e3a-2051-4eba-8d5b-d9dbd979078f",
   "metadata": {},
   "outputs": [
    {
     "data": {
      "text/html": [
       "<div>\n",
       "<style scoped>\n",
       "    .dataframe tbody tr th:only-of-type {\n",
       "        vertical-align: middle;\n",
       "    }\n",
       "\n",
       "    .dataframe tbody tr th {\n",
       "        vertical-align: top;\n",
       "    }\n",
       "\n",
       "    .dataframe thead th {\n",
       "        text-align: right;\n",
       "    }\n",
       "</style>\n",
       "<table border=\"1\" class=\"dataframe\">\n",
       "  <thead>\n",
       "    <tr style=\"text-align: right;\">\n",
       "      <th></th>\n",
       "      <th>Category</th>\n",
       "      <th>four_ID</th>\n",
       "      <th>yelp_ID</th>\n",
       "    </tr>\n",
       "  </thead>\n",
       "  <tbody>\n",
       "    <tr>\n",
       "      <th>0</th>\n",
       "      <td>Arts and Entertainment</td>\n",
       "      <td>10000</td>\n",
       "      <td>arts, All</td>\n",
       "    </tr>\n",
       "    <tr>\n",
       "      <th>1</th>\n",
       "      <td>Business and Professional Services</td>\n",
       "      <td>11000</td>\n",
       "      <td>business, All</td>\n",
       "    </tr>\n",
       "    <tr>\n",
       "      <th>2</th>\n",
       "      <td>Community and Government</td>\n",
       "      <td>12000</td>\n",
       "      <td>publicservicesgovt, All</td>\n",
       "    </tr>\n",
       "    <tr>\n",
       "      <th>3</th>\n",
       "      <td>Dining and Drinking</td>\n",
       "      <td>13000</td>\n",
       "      <td>restaurants, All</td>\n",
       "    </tr>\n",
       "    <tr>\n",
       "      <th>4</th>\n",
       "      <td>Event</td>\n",
       "      <td>14000</td>\n",
       "      <td>yelpevents, All</td>\n",
       "    </tr>\n",
       "    <tr>\n",
       "      <th>5</th>\n",
       "      <td>Health and Medicine</td>\n",
       "      <td>15000</td>\n",
       "      <td>health, All</td>\n",
       "    </tr>\n",
       "    <tr>\n",
       "      <th>6</th>\n",
       "      <td>Landmarks and Outdoors</td>\n",
       "      <td>16000</td>\n",
       "      <td>landmarks, All</td>\n",
       "    </tr>\n",
       "    <tr>\n",
       "      <th>7</th>\n",
       "      <td>Retail</td>\n",
       "      <td>17000</td>\n",
       "      <td>shopping, All</td>\n",
       "    </tr>\n",
       "    <tr>\n",
       "      <th>8</th>\n",
       "      <td>Sports and Recreation</td>\n",
       "      <td>18000</td>\n",
       "      <td>active, All</td>\n",
       "    </tr>\n",
       "    <tr>\n",
       "      <th>9</th>\n",
       "      <td>Travel and Transportation</td>\n",
       "      <td>19000</td>\n",
       "      <td>transport, All</td>\n",
       "    </tr>\n",
       "  </tbody>\n",
       "</table>\n",
       "</div>"
      ],
      "text/plain": [
       "                             Category  four_ID                  yelp_ID\n",
       "0              Arts and Entertainment    10000                arts, All\n",
       "1  Business and Professional Services    11000            business, All\n",
       "2            Community and Government    12000  publicservicesgovt, All\n",
       "3                 Dining and Drinking    13000         restaurants, All\n",
       "4                               Event    14000          yelpevents, All\n",
       "5                 Health and Medicine    15000              health, All\n",
       "6              Landmarks and Outdoors    16000           landmarks, All\n",
       "7                              Retail    17000            shopping, All\n",
       "8               Sports and Recreation    18000              active, All\n",
       "9           Travel and Transportation    19000           transport, All"
      ]
     },
     "execution_count": 48,
     "metadata": {},
     "output_type": "execute_result"
    }
   ],
   "source": [
    "#reminder this is our categories dataframe\n",
    "cat_ids"
   ]
  },
  {
   "cell_type": "code",
   "execution_count": 49,
   "id": "7245a781-7d99-4fd0-9f2f-09f2ddb1afd6",
   "metadata": {},
   "outputs": [],
   "source": [
    "frames_four = []\n",
    "#now i want a loop that will go in and generate a table for each of the dict elements\n",
    "for category in cat_ids['four_ID']:\n",
    "    \n",
    "    frames_four.append(get_venues_four('45.6387,-122.6615', category))"
   ]
  },
  {
   "cell_type": "code",
   "execution_count": 54,
   "id": "04de9b97-92a2-4f56-8537-8a7a038062c6",
   "metadata": {},
   "outputs": [
    {
     "name": "stdout",
     "output_type": "stream",
     "text": [
      "212\n"
     ]
    },
    {
     "data": {
      "text/html": [
       "<div>\n",
       "<style scoped>\n",
       "    .dataframe tbody tr th:only-of-type {\n",
       "        vertical-align: middle;\n",
       "    }\n",
       "\n",
       "    .dataframe tbody tr th {\n",
       "        vertical-align: top;\n",
       "    }\n",
       "\n",
       "    .dataframe thead th {\n",
       "        text-align: right;\n",
       "    }\n",
       "</style>\n",
       "<table border=\"1\" class=\"dataframe\">\n",
       "  <thead>\n",
       "    <tr style=\"text-align: right;\">\n",
       "      <th></th>\n",
       "      <th>Category</th>\n",
       "      <th>id</th>\n",
       "      <th>title</th>\n",
       "      <th>total</th>\n",
       "    </tr>\n",
       "  </thead>\n",
       "  <tbody>\n",
       "    <tr>\n",
       "      <th>0</th>\n",
       "      <td>Arts and Entertainment</td>\n",
       "      <td>10000</td>\n",
       "      <td>Arts and Entertainment</td>\n",
       "      <td>4</td>\n",
       "    </tr>\n",
       "    <tr>\n",
       "      <th>1</th>\n",
       "      <td>Arts and Entertainment</td>\n",
       "      <td>10039</td>\n",
       "      <td>Music Venue</td>\n",
       "      <td>2</td>\n",
       "    </tr>\n",
       "    <tr>\n",
       "      <th>2</th>\n",
       "      <td>Arts and Entertainment</td>\n",
       "      <td>10003</td>\n",
       "      <td>Arcade</td>\n",
       "      <td>1</td>\n",
       "    </tr>\n",
       "    <tr>\n",
       "      <th>3</th>\n",
       "      <td>Arts and Entertainment</td>\n",
       "      <td>10004</td>\n",
       "      <td>Art Gallery</td>\n",
       "      <td>1</td>\n",
       "    </tr>\n",
       "    <tr>\n",
       "      <th>4</th>\n",
       "      <td>Arts and Entertainment</td>\n",
       "      <td>10028</td>\n",
       "      <td>Art Museum</td>\n",
       "      <td>1</td>\n",
       "    </tr>\n",
       "  </tbody>\n",
       "</table>\n",
       "</div>"
      ],
      "text/plain": [
       "                 Category     id                   title  total\n",
       "0  Arts and Entertainment  10000  Arts and Entertainment      4\n",
       "1  Arts and Entertainment  10039             Music Venue      2\n",
       "2  Arts and Entertainment  10003                  Arcade      1\n",
       "3  Arts and Entertainment  10004             Art Gallery      1\n",
       "4  Arts and Entertainment  10028              Art Museum      1"
      ]
     },
     "execution_count": 54,
     "metadata": {},
     "output_type": "execute_result"
    }
   ],
   "source": [
    "#now let's put them all together\n",
    "foursquare_raw = pd.concat([frames_four[0], frames_four[1], frames_four[2], frames_four[3],\n",
    "                            frames_four[4], frames_four[5], frames_four[6], frames_four[7],\n",
    "                            frames_four[8], frames_four[9]],\n",
    "                            names=['Category','id','title'],\n",
    "                            keys=cat_ids['Category']).reset_index()\n",
    "print(len(foursquare_raw))\n",
    "foursquare_raw.head()"
   ]
  },
  {
   "cell_type": "code",
   "execution_count": 55,
   "id": "2d648ab9-e62b-4167-bf47-aa8e85f1a17f",
   "metadata": {},
   "outputs": [],
   "source": [
    "foursquare_data = foursquare_raw.sort_values('total', ascending = False)"
   ]
  },
  {
   "cell_type": "code",
   "execution_count": 56,
   "id": "83c1cf31-dc29-49fe-8d53-6c739d561860",
   "metadata": {},
   "outputs": [],
   "source": [
    "#now it's yelps turn\n",
    "frames_yelp = []\n",
    "#now i want a loop that will go in and generate a table for each of the dict elements\n",
    "for category in cat_ids['yelp_ID']:\n",
    "    frames_yelp.append(get_venues_yelp([45.6387, -122.6615], category))"
   ]
  },
  {
   "cell_type": "code",
   "execution_count": 84,
   "id": "9b896ca1-aa8b-48ae-8c25-f5932828a5ff",
   "metadata": {},
   "outputs": [
    {
     "data": {
      "text/html": [
       "<div>\n",
       "<style scoped>\n",
       "    .dataframe tbody tr th:only-of-type {\n",
       "        vertical-align: middle;\n",
       "    }\n",
       "\n",
       "    .dataframe tbody tr th {\n",
       "        vertical-align: top;\n",
       "    }\n",
       "\n",
       "    .dataframe thead th {\n",
       "        text-align: right;\n",
       "    }\n",
       "</style>\n",
       "<table border=\"1\" class=\"dataframe\">\n",
       "  <thead>\n",
       "    <tr style=\"text-align: right;\">\n",
       "      <th></th>\n",
       "      <th>Category</th>\n",
       "      <th>title</th>\n",
       "      <th>total</th>\n",
       "    </tr>\n",
       "  </thead>\n",
       "  <tbody>\n",
       "    <tr>\n",
       "      <th>0</th>\n",
       "      <td>Arts and Entertainment</td>\n",
       "      <td>Supernatural Readings</td>\n",
       "      <td>5</td>\n",
       "    </tr>\n",
       "    <tr>\n",
       "      <th>1</th>\n",
       "      <td>Arts and Entertainment</td>\n",
       "      <td>Performing Arts</td>\n",
       "      <td>4</td>\n",
       "    </tr>\n",
       "    <tr>\n",
       "      <th>2</th>\n",
       "      <td>Arts and Entertainment</td>\n",
       "      <td>Wineries</td>\n",
       "      <td>3</td>\n",
       "    </tr>\n",
       "    <tr>\n",
       "      <th>3</th>\n",
       "      <td>Arts and Entertainment</td>\n",
       "      <td>Life Coach</td>\n",
       "      <td>2</td>\n",
       "    </tr>\n",
       "    <tr>\n",
       "      <th>4</th>\n",
       "      <td>Arts and Entertainment</td>\n",
       "      <td>Psychics</td>\n",
       "      <td>2</td>\n",
       "    </tr>\n",
       "  </tbody>\n",
       "</table>\n",
       "</div>"
      ],
      "text/plain": [
       "                 Category                  title total\n",
       "0  Arts and Entertainment  Supernatural Readings     5\n",
       "1  Arts and Entertainment        Performing Arts     4\n",
       "2  Arts and Entertainment               Wineries     3\n",
       "3  Arts and Entertainment             Life Coach     2\n",
       "4  Arts and Entertainment               Psychics     2"
      ]
     },
     "execution_count": 84,
     "metadata": {},
     "output_type": "execute_result"
    }
   ],
   "source": [
    "yelp_raw = pd.concat([frames_yelp[0], frames_yelp[1], frames_yelp[2], frames_yelp[3],\n",
    "                            frames_yelp[4], frames_yelp[5], frames_yelp[6], frames_yelp[7],\n",
    "                            frames_yelp[8], frames_yelp[9]],\n",
    "                            names=['Category','title'],\n",
    "                            keys=cat_ids['Category']).reset_index()\n",
    "\n",
    "yelp_raw.head(5)"
   ]
  },
  {
   "cell_type": "code",
   "execution_count": 61,
   "id": "d937575b-3410-4570-8cc9-34a0a4f13624",
   "metadata": {},
   "outputs": [],
   "source": [
    "yelp_data = yelp_raw.sort_values('total', ascending = False)"
   ]
  },
  {
   "cell_type": "code",
   "execution_count": 62,
   "id": "0a16bf47-b4c0-446d-83bf-4613b46d8714",
   "metadata": {},
   "outputs": [],
   "source": [
    "yelp_data.to_csv('yelp_venues')"
   ]
  },
  {
   "cell_type": "code",
   "execution_count": 63,
   "id": "318ea1dc-7b29-430d-9dcb-480fe7419558",
   "metadata": {},
   "outputs": [],
   "source": [
    "foursquare_data.to_csv('foursquare_venues')"
   ]
  },
  {
   "cell_type": "markdown",
   "id": "9a762440-40de-4a07-9135-e66bc143efa4",
   "metadata": {},
   "source": [
    "### Results into CSV"
   ]
  },
  {
   "cell_type": "code",
   "execution_count": 82,
   "id": "d43cdb19-fe5d-473a-96e3-8f12d4dd75f4",
   "metadata": {},
   "outputs": [],
   "source": [
    "cat_totals = [\n",
    "['Dining and Drinking',41,30],\n",
    "['Retail',37,33],\n",
    "['Business and Professional Services',35,32],\n",
    "['Community and Government',31,1],\n",
    "['Travel and Transportation',19,10],\n",
    "['Health and Medicine',18,29],\n",
    "['Arts and Entertainment',12,20],\n",
    "['Sports and Recreation',10,37],\n",
    "['Landmarks and Outdoors',6,None],\n",
    "['Event',3,None]]\n",
    "\n",
    "cat_totals = pd.DataFrame(cat_totals, columns=['category','f_total','y_total'])"
   ]
  },
  {
   "cell_type": "code",
   "execution_count": 85,
   "id": "f2f0cb7b-60e0-4228-b67b-3366af6d4ed4",
   "metadata": {},
   "outputs": [],
   "source": [
    "cat_totals.to_csv('data/category_totals.csv')"
   ]
  },
  {
   "cell_type": "code",
   "execution_count": 91,
   "id": "5b9cbdf0-bf04-4ff9-aa60-2a1f706be69b",
   "metadata": {},
   "outputs": [],
   "source": [
    "foursquare_topvenues = [\n",
    "['Thai Restaurant',2],\n",
    "['Street Food Gathering',2],\n",
    "['Restaurant',2],\n",
    "['Residential Building',2],\n",
    "['Property Management Office',2],\n",
    "['Optometrist',2],\n",
    "['Night Club',2],\n",
    "['Eyecare Store',2],\n",
    "['Dive Bar',2],\n",
    "['Candy Store',2]]\n",
    "\n",
    "yelp_topvenues = [\n",
    "['Tours',3],\n",
    "['Massage Therapy',3],\n",
    "['Bike Rentals',3],\n",
    "['Bars',3],\n",
    "['Wine Tours',2],\n",
    "['Wine Bars',2],\n",
    "['Waffles',2],\n",
    "['Vietnamese',2],\n",
    "['Thai',2],\n",
    "['Tapas/Small Plates',2]]\n",
    "\n",
    "foursquare_top = pd.DataFrame(foursquare_topvenues, columns=['category','total'])\n",
    "yelp_top = pd.DataFrame(yelp_topvenues, columns=['category','total'])\n"
   ]
  },
  {
   "cell_type": "code",
   "execution_count": 95,
   "id": "ab41d9ca-fe8b-42e6-9399-9bee8432af82",
   "metadata": {},
   "outputs": [
    {
     "data": {
      "text/html": [
       "<div>\n",
       "<style scoped>\n",
       "    .dataframe tbody tr th:only-of-type {\n",
       "        vertical-align: middle;\n",
       "    }\n",
       "\n",
       "    .dataframe tbody tr th {\n",
       "        vertical-align: top;\n",
       "    }\n",
       "\n",
       "    .dataframe thead th {\n",
       "        text-align: right;\n",
       "    }\n",
       "</style>\n",
       "<table border=\"1\" class=\"dataframe\">\n",
       "  <thead>\n",
       "    <tr style=\"text-align: right;\">\n",
       "      <th></th>\n",
       "      <th></th>\n",
       "      <th>category</th>\n",
       "      <th>total</th>\n",
       "    </tr>\n",
       "  </thead>\n",
       "  <tbody>\n",
       "    <tr>\n",
       "      <th rowspan=\"10\" valign=\"top\">foursquare</th>\n",
       "      <th>0</th>\n",
       "      <td>Thai Restaurant</td>\n",
       "      <td>2</td>\n",
       "    </tr>\n",
       "    <tr>\n",
       "      <th>1</th>\n",
       "      <td>Street Food Gathering</td>\n",
       "      <td>2</td>\n",
       "    </tr>\n",
       "    <tr>\n",
       "      <th>2</th>\n",
       "      <td>Restaurant</td>\n",
       "      <td>2</td>\n",
       "    </tr>\n",
       "    <tr>\n",
       "      <th>3</th>\n",
       "      <td>Residential Building</td>\n",
       "      <td>2</td>\n",
       "    </tr>\n",
       "    <tr>\n",
       "      <th>4</th>\n",
       "      <td>Property Management Office</td>\n",
       "      <td>2</td>\n",
       "    </tr>\n",
       "    <tr>\n",
       "      <th>5</th>\n",
       "      <td>Optometrist</td>\n",
       "      <td>2</td>\n",
       "    </tr>\n",
       "    <tr>\n",
       "      <th>6</th>\n",
       "      <td>Night Club</td>\n",
       "      <td>2</td>\n",
       "    </tr>\n",
       "    <tr>\n",
       "      <th>7</th>\n",
       "      <td>Eyecare Store</td>\n",
       "      <td>2</td>\n",
       "    </tr>\n",
       "    <tr>\n",
       "      <th>8</th>\n",
       "      <td>Dive Bar</td>\n",
       "      <td>2</td>\n",
       "    </tr>\n",
       "    <tr>\n",
       "      <th>9</th>\n",
       "      <td>Candy Store</td>\n",
       "      <td>2</td>\n",
       "    </tr>\n",
       "    <tr>\n",
       "      <th rowspan=\"10\" valign=\"top\">yelp</th>\n",
       "      <th>0</th>\n",
       "      <td>Tours</td>\n",
       "      <td>3</td>\n",
       "    </tr>\n",
       "    <tr>\n",
       "      <th>1</th>\n",
       "      <td>Massage Therapy</td>\n",
       "      <td>3</td>\n",
       "    </tr>\n",
       "    <tr>\n",
       "      <th>2</th>\n",
       "      <td>Bike Rentals</td>\n",
       "      <td>3</td>\n",
       "    </tr>\n",
       "    <tr>\n",
       "      <th>3</th>\n",
       "      <td>Bars</td>\n",
       "      <td>3</td>\n",
       "    </tr>\n",
       "    <tr>\n",
       "      <th>4</th>\n",
       "      <td>Wine Tours</td>\n",
       "      <td>2</td>\n",
       "    </tr>\n",
       "    <tr>\n",
       "      <th>5</th>\n",
       "      <td>Wine Bars</td>\n",
       "      <td>2</td>\n",
       "    </tr>\n",
       "    <tr>\n",
       "      <th>6</th>\n",
       "      <td>Waffles</td>\n",
       "      <td>2</td>\n",
       "    </tr>\n",
       "    <tr>\n",
       "      <th>7</th>\n",
       "      <td>Vietnamese</td>\n",
       "      <td>2</td>\n",
       "    </tr>\n",
       "    <tr>\n",
       "      <th>8</th>\n",
       "      <td>Thai</td>\n",
       "      <td>2</td>\n",
       "    </tr>\n",
       "    <tr>\n",
       "      <th>9</th>\n",
       "      <td>Tapas/Small Plates</td>\n",
       "      <td>2</td>\n",
       "    </tr>\n",
       "  </tbody>\n",
       "</table>\n",
       "</div>"
      ],
      "text/plain": [
       "                                category  total\n",
       "foursquare 0             Thai Restaurant      2\n",
       "           1       Street Food Gathering      2\n",
       "           2                  Restaurant      2\n",
       "           3        Residential Building      2\n",
       "           4  Property Management Office      2\n",
       "           5                 Optometrist      2\n",
       "           6                  Night Club      2\n",
       "           7               Eyecare Store      2\n",
       "           8                    Dive Bar      2\n",
       "           9                 Candy Store      2\n",
       "yelp       0                       Tours      3\n",
       "           1             Massage Therapy      3\n",
       "           2                Bike Rentals      3\n",
       "           3                        Bars      3\n",
       "           4                  Wine Tours      2\n",
       "           5                   Wine Bars      2\n",
       "           6                     Waffles      2\n",
       "           7                  Vietnamese      2\n",
       "           8                        Thai      2\n",
       "           9          Tapas/Small Plates      2"
      ]
     },
     "execution_count": 95,
     "metadata": {},
     "output_type": "execute_result"
    }
   ],
   "source": [
    "pd.concat([foursquare_top, yelp_top], keys=['foursquare','yelp'])"
   ]
  },
  {
   "cell_type": "code",
   "execution_count": 92,
   "id": "9851c6f1-31a7-4405-b6a2-3f39b66f61d6",
   "metadata": {},
   "outputs": [],
   "source": [
    "foursquare_top.to_csv('data/foursquare_top.csv')\n",
    "yelp_top.to_csv('data/yelp_top.csv')"
   ]
  }
 ],
 "metadata": {
  "kernelspec": {
   "display_name": "Python 3 (ipykernel)",
   "language": "python",
   "name": "python3"
  },
  "language_info": {
   "codemirror_mode": {
    "name": "ipython",
    "version": 3
   },
   "file_extension": ".py",
   "mimetype": "text/x-python",
   "name": "python",
   "nbconvert_exporter": "python",
   "pygments_lexer": "ipython3",
   "version": "3.9.7"
  }
 },
 "nbformat": 4,
 "nbformat_minor": 5
}
