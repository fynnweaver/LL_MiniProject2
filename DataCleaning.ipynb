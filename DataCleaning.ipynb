{
 "cells": [
  {
   "cell_type": "markdown",
   "id": "12b43a45-88c1-410e-8c28-638263aded0b",
   "metadata": {},
   "source": [
    "## Intructions\n",
    "\n",
    "The main goal of the mini-project is to build the database of restaurants, bars and various points of interest (POIs) in the area of your choice and find out which API has better coverage in the selected area. The APIs have limited number of requests for free, so start with the smaller area.\n",
    "\n",
    "APIS:\n",
    "- Foursquare\n",
    "- Yelp\n",
    "- *Stretch*: Google\n",
    "\n",
    "Steps:\n",
    "- pull the data about various POIs in the area through API. If you run out of requests for any of the APIs, don't worry, it's ok to use only sample data you already have or the POIs from the Yelp API. It's approach and process that counts.\n",
    "- create own SQLite database and store the data about the POIs. Think about what will be the best structure of the database\n",
    "- compare the results using SQL or Pandas (it's up to you:)) and see which API has a better coverage of the area.\n",
    "- choose the top 10 POIs based on the popularity\n",
    "- *(Stretch)* By implementing [travelling salesman problem (TSP)](https://en.wikipedia.org/wiki/Travelling_salesman_problem), how much time would it take to visit all of these places?"
   ]
  },
  {
   "cell_type": "markdown",
   "id": "d2bfedd0-db98-4cf5-8ef8-46c9a7b632fd",
   "metadata": {},
   "source": [
    "### Step 1: Foursquare API\n",
    "\n",
    "Make a function using foursquare API that takes a location and outputs a table of POI in the area. \n",
    "\n",
    "*Note*: While foursquare has unlimited queries, try and only run function once"
   ]
  },
  {
   "cell_type": "code",
   "execution_count": 1,
   "id": "e00d4692-be97-4058-88f4-de58db12a8c0",
   "metadata": {},
   "outputs": [],
   "source": [
    "#import packages\n",
    "import pandas as pd\n",
    "import os\n",
    "import requests as re\n",
    "from IPython.display import JSON"
   ]
  },
  {
   "cell_type": "code",
   "execution_count": 2,
   "id": "ed5ae9e4-2510-415c-a6c7-a365656d057c",
   "metadata": {},
   "outputs": [],
   "source": [
    "#define api url elements\n",
    "root_endpoint_four = \"https://api.foursquare.com/v3/places/search\"\n",
    "\n",
    "#set api key\n",
    "foursquare_key = os.environ[\"FOURSQUARE_API_KEY\"]\n",
    "\n",
    "headers_four = {\n",
    "    \"Accept\": \"application/json\",\n",
    "    \"Authorization\": foursquare_key\n",
    "}"
   ]
  },
  {
   "cell_type": "code",
   "execution_count": 3,
   "id": "8ccc8bfc-2301-42e8-9634-b8c67f1c8f6d",
   "metadata": {},
   "outputs": [],
   "source": [
    "#custom dict of category ids and labels\n",
    "four_cat_ids = {'Arts and Entertainment': 10000,\n",
    "           'Business and Professional Services':11000,\n",
    "           'Community and Government':12000,\n",
    "           'Dining and Drinking': 13000,\n",
    "           'Event': 14000,\n",
    "           'Health and Medicine': 15000,\n",
    "           'Landmarks and Outdoors': 16000,\n",
    "           'Retail': 17000,\n",
    "           'Sports and Recreation': 18000,\n",
    "           'Travel and Transportation': 19000\n",
    "          }"
   ]
  },
  {
   "cell_type": "code",
   "execution_count": 4,
   "id": "81084ed4-e94c-48ba-9626-3b74113d8e48",
   "metadata": {},
   "outputs": [
    {
     "data": {
      "text/html": [
       "<div>\n",
       "<style scoped>\n",
       "    .dataframe tbody tr th:only-of-type {\n",
       "        vertical-align: middle;\n",
       "    }\n",
       "\n",
       "    .dataframe tbody tr th {\n",
       "        vertical-align: top;\n",
       "    }\n",
       "\n",
       "    .dataframe thead th {\n",
       "        text-align: right;\n",
       "    }\n",
       "</style>\n",
       "<table border=\"1\" class=\"dataframe\">\n",
       "  <thead>\n",
       "    <tr style=\"text-align: right;\">\n",
       "      <th></th>\n",
       "      <th></th>\n",
       "      <th>total</th>\n",
       "    </tr>\n",
       "    <tr>\n",
       "      <th>id</th>\n",
       "      <th>title</th>\n",
       "      <th></th>\n",
       "    </tr>\n",
       "  </thead>\n",
       "  <tbody>\n",
       "    <tr>\n",
       "      <th>13065</th>\n",
       "      <th>Restaurant</th>\n",
       "      <td>14</td>\n",
       "    </tr>\n",
       "    <tr>\n",
       "      <th>13068</th>\n",
       "      <th>American Restaurant</th>\n",
       "      <td>6</td>\n",
       "    </tr>\n",
       "    <tr>\n",
       "      <th>13031</th>\n",
       "      <th>Burger Joint</th>\n",
       "      <td>5</td>\n",
       "    </tr>\n",
       "    <tr>\n",
       "      <th>13002</th>\n",
       "      <th>Bakery</th>\n",
       "      <td>5</td>\n",
       "    </tr>\n",
       "    <tr>\n",
       "      <th>13035</th>\n",
       "      <th>Coffee Shop</th>\n",
       "      <td>4</td>\n",
       "    </tr>\n",
       "  </tbody>\n",
       "</table>\n",
       "</div>"
      ],
      "text/plain": [
       "                           total\n",
       "id    title                     \n",
       "13065 Restaurant              14\n",
       "13068 American Restaurant      6\n",
       "13031 Burger Joint             5\n",
       "13002 Bakery                   5\n",
       "13035 Coffee Shop              4"
      ]
     },
     "execution_count": 4,
     "metadata": {},
     "output_type": "execute_result"
    }
   ],
   "source": [
    "#make a function that returns venue names for all venue types and total venue amount\n",
    "def get_venues_four(location, venue_type):\n",
    "    \"\"\" intakes: string of lat, long location \n",
    "        returns: int representing how many bars are within 5km of the crash\n",
    "    ex: get_venues('45.6387,-122.6615') -> 8\"\"\"\n",
    "    \n",
    "    #get data relevent to input location\n",
    "    response = re.get(root_endpoint_four, \n",
    "                      params={'ll': location, 'radius': 1000, 'categories': four_cat_ids[venue_type], 'limit': 50}, \n",
    "                      headers = headers_four)\n",
    "    result = response.json()\n",
    "    \n",
    "    #define empty objects\n",
    "    category_amount = 0\n",
    "    venues = {'id': [],\n",
    "              'title': []\n",
    "    }\n",
    "    \n",
    "    #cycle into data to get place type\n",
    "    for place in result['results']:\n",
    "        \n",
    "        #go into every type a place is\n",
    "        for p_type in place['categories']:\n",
    "    \n",
    "            category_amount +=1 \n",
    "            venues['title'].append(p_type['name'])\n",
    "            venues['id'].append(p_type['id'])\n",
    "\n",
    "    #save venues into data frame and count values\n",
    "    venues_df = pd.DataFrame(venues).value_counts()\n",
    "    #return a database of the venue names and an integer of total tagged with that id\n",
    "    return pd.DataFrame(venues_df, columns=['total'])\n",
    "\n",
    "test_df = get_venues_four('45.6387,-122.6615', 'Dining and Drinking')\n",
    "test_df.head()"
   ]
  },
  {
   "cell_type": "markdown",
   "id": "5030bf89-610f-44a9-bb4f-da8f32b0bb6e",
   "metadata": {},
   "source": [
    "### Yelp API\n",
    "\n",
    "Since this the first time working with it let's start by setting a test result and looking at the return"
   ]
  },
  {
   "cell_type": "code",
   "execution_count": 5,
   "id": "3a0ce393-dd28-4f3b-85d7-bfe6a10db887",
   "metadata": {},
   "outputs": [],
   "source": [
    "#define api url elements\n",
    "root_endpoint_yelp = \"https://api.yelp.com/v3/businesses/search\"\n",
    "\n",
    "#set api key\n",
    "yelp_key = os.environ[\"YELP_API\"]\n",
    "\n",
    "headers_yelp = {\n",
    "    \"Authorization\": f\"Bearer {yelp_key}\"\n",
    "}"
   ]
  },
  {
   "cell_type": "code",
   "execution_count": 6,
   "id": "5b116cd4-11c8-4fe7-91f5-cba1aad32b23",
   "metadata": {},
   "outputs": [
    {
     "name": "stdout",
     "output_type": "stream",
     "text": [
      "200\n"
     ]
    }
   ],
   "source": [
    "#Test out retrieving API info\n",
    "response = re.get(root_endpoint_yelp, \n",
    "                  params = {'latitude': 45.6387, \n",
    "                            'longitude':-122.6615,\n",
    "                            'categories':'arts, All'},\n",
    "                  headers = headers_yelp)\n",
    "\n",
    "#make sure it works\n",
    "print(response.status_code)\n",
    "\n",
    "#convert into json (nested list of dictionaries)\n",
    "result = response.json()"
   ]
  },
  {
   "cell_type": "code",
   "execution_count": 7,
   "id": "25fcd74d-9b0f-4d77-a018-969a57915f01",
   "metadata": {},
   "outputs": [
    {
     "data": {
      "application/json": [
       {
        "alias": "kiggins-theatre-vancouver",
        "categories": [
         {
          "alias": "movietheaters",
          "title": "Cinema"
         }
        ],
        "coordinates": {
         "latitude": 45.62928,
         "longitude": -122.67124
        },
        "display_phone": "(360) 816-0352",
        "distance": 1288.7859406621956,
        "id": "dH9pzKVDG_EDRYnAQpeWFA",
        "image_url": "https://s3-media1.fl.yelpcdn.com/bphoto/NHJ4yfE25wyE4Un7SIid8A/o.jpg",
        "is_closed": false,
        "location": {
         "address1": "1011 Main St",
         "address2": "",
         "address3": "",
         "city": "Vancouver",
         "country": "US",
         "display_address": [
          "1011 Main St",
          "Vancouver, WA 98660"
         ],
         "state": "WA",
         "zip_code": "98660"
        },
        "name": "Kiggins Theatre",
        "phone": "+13608160352",
        "rating": 4.5,
        "review_count": 58,
        "transactions": [],
        "url": "https://www.yelp.com/biz/kiggins-theatre-vancouver?adjust_creative=HJQhR5t4Y4QUXLptr6Oemg&utm_campaign=yelp_api_v3&utm_medium=api_v3_business_search&utm_source=HJQhR5t4Y4QUXLptr6Oemg"
       },
       {
        "alias": "brian-carter-cellars-vancouver",
        "categories": [
         {
          "alias": "wine_bars",
          "title": "Wine Bars"
         },
         {
          "alias": "winetastingroom",
          "title": "Wine Tasting Room"
         },
         {
          "alias": "desserts",
          "title": "Desserts"
         }
        ],
        "coordinates": {
         "latitude": 45.6237944416219,
         "longitude": -122.679123272168
        },
        "display_phone": "(360) 216-1444",
        "distance": 2150.5317620091178,
        "id": "bOtsI9EGrabkVsforTVLKw",
        "image_url": "https://s3-media3.fl.yelpcdn.com/bphoto/BIV8t0HWacUrV7_4KWKPsg/o.jpg",
        "is_closed": false,
        "location": {
         "address1": "660 Waterfront Way",
         "address2": "",
         "address3": null,
         "city": "Vancouver",
         "country": "US",
         "display_address": [
          "660 Waterfront Way",
          "Vancouver, WA 98660"
         ],
         "state": "WA",
         "zip_code": "98660"
        },
        "name": "Brian Carter Cellars",
        "phone": "+13602161444",
        "rating": 5,
        "review_count": 31,
        "transactions": [
         "delivery"
        ],
        "url": "https://www.yelp.com/biz/brian-carter-cellars-vancouver?adjust_creative=HJQhR5t4Y4QUXLptr6Oemg&utm_campaign=yelp_api_v3&utm_medium=api_v3_business_search&utm_source=HJQhR5t4Y4QUXLptr6Oemg"
       },
       {
        "alias": "burnt-bridge-cellars-vancouver",
        "categories": [
         {
          "alias": "wineries",
          "title": "Wineries"
         }
        ],
        "coordinates": {
         "latitude": 45.6328054,
         "longitude": -122.6707024
        },
        "display_phone": "(360) 695-3363",
        "distance": 970.3224210807782,
        "id": "hTGEtCJcFewhD_dp8gNwKQ",
        "image_url": "https://s3-media4.fl.yelpcdn.com/bphoto/5ng27LACKHhOhfIJ18YGKA/o.jpg",
        "is_closed": false,
        "location": {
         "address1": "1500 Broadway St",
         "address2": "",
         "address3": "",
         "city": "Vancouver",
         "country": "US",
         "display_address": [
          "1500 Broadway St",
          "Vancouver, WA 98663"
         ],
         "state": "WA",
         "zip_code": "98663"
        },
        "name": "Burnt Bridge Cellars",
        "phone": "+13606953363",
        "price": "$$",
        "rating": 4.5,
        "review_count": 20,
        "transactions": [],
        "url": "https://www.yelp.com/biz/burnt-bridge-cellars-vancouver?adjust_creative=HJQhR5t4Y4QUXLptr6Oemg&utm_campaign=yelp_api_v3&utm_medium=api_v3_business_search&utm_source=HJQhR5t4Y4QUXLptr6Oemg"
       },
       {
        "alias": "regal-city-center-vancouver-4",
        "categories": [
         {
          "alias": "movietheaters",
          "title": "Cinema"
         }
        ],
        "coordinates": {
         "latitude": 45.62712,
         "longitude": -122.668983
        },
        "display_phone": "(844) 462-7342",
        "distance": 1412.9860602750452,
        "id": "mazK_6xL4piz28t23MIUuQ",
        "image_url": "https://s3-media3.fl.yelpcdn.com/bphoto/RnHPrWz93Y8FG0-SOrnzYQ/o.jpg",
        "is_closed": false,
        "location": {
         "address1": "801 C Street",
         "address2": "",
         "address3": "",
         "city": "Vancouver",
         "country": "US",
         "display_address": [
          "801 C Street",
          "Vancouver, WA 98660"
         ],
         "state": "WA",
         "zip_code": "98660"
        },
        "name": "Regal City Center",
        "phone": "+18444627342",
        "rating": 4,
        "review_count": 55,
        "transactions": [],
        "url": "https://www.yelp.com/biz/regal-city-center-vancouver-4?adjust_creative=HJQhR5t4Y4QUXLptr6Oemg&utm_campaign=yelp_api_v3&utm_medium=api_v3_business_search&utm_source=HJQhR5t4Y4QUXLptr6Oemg"
       },
       {
        "alias": "all-about-you-luxury-wine-tours-portland-16",
        "categories": [
         {
          "alias": "winetours",
          "title": "Wine Tours"
         },
         {
          "alias": "wineries",
          "title": "Wineries"
         }
        ],
        "coordinates": {
         "latitude": 45.4618085115878,
         "longitude": -122.718190401793
        },
        "display_phone": "(503) 572-9086",
        "distance": 20158.679942625236,
        "id": "67tmRdjfUotIrG56mTDyOw",
        "image_url": "https://s3-media1.fl.yelpcdn.com/bphoto/Jf7-u4uNloEqaTDwuWFUzw/o.jpg",
        "is_closed": false,
        "location": {
         "address1": "4430 SW Galeburn St.",
         "address2": null,
         "address3": "",
         "city": "Portland",
         "country": "US",
         "display_address": [
          "4430 SW Galeburn St.",
          "Portland, OR 97219"
         ],
         "state": "OR",
         "zip_code": "97219"
        },
        "name": "All About You Luxury Wine Tours",
        "phone": "+15035729086",
        "price": "$$",
        "rating": 4.5,
        "review_count": 135,
        "transactions": [],
        "url": "https://www.yelp.com/biz/all-about-you-luxury-wine-tours-portland-16?adjust_creative=HJQhR5t4Y4QUXLptr6Oemg&utm_campaign=yelp_api_v3&utm_medium=api_v3_business_search&utm_source=HJQhR5t4Y4QUXLptr6Oemg"
       },
       {
        "alias": "maryhill-tasting-room-and-bistro-vancouver-vancouver-2",
        "categories": [
         {
          "alias": "winetastingroom",
          "title": "Wine Tasting Room"
         }
        ],
        "coordinates": {
         "latitude": 45.62401,
         "longitude": -122.68014
        },
        "display_phone": "(360) 450-6211",
        "distance": 2223.5613338504972,
        "id": "pMPsW0fFk3RB0p91ieK7Iw",
        "image_url": "https://s3-media1.fl.yelpcdn.com/bphoto/83_vynhBjWP9bosxYbvSjQ/o.jpg",
        "is_closed": false,
        "location": {
         "address1": "801 Waterfront Way",
         "address2": "Ste 105",
         "address3": null,
         "city": "Vancouver",
         "country": "US",
         "display_address": [
          "801 Waterfront Way",
          "Ste 105",
          "Vancouver, WA 98660"
         ],
         "state": "WA",
         "zip_code": "98660"
        },
        "name": "Maryhill Tasting Room & Bistro - Vancouver",
        "phone": "+13604506211",
        "rating": 3.5,
        "review_count": 67,
        "transactions": [],
        "url": "https://www.yelp.com/biz/maryhill-tasting-room-and-bistro-vancouver-vancouver-2?adjust_creative=HJQhR5t4Y4QUXLptr6Oemg&utm_campaign=yelp_api_v3&utm_medium=api_v3_business_search&utm_source=HJQhR5t4Y4QUXLptr6Oemg"
       },
       {
        "alias": "miss-renee-portland",
        "categories": [
         {
          "alias": "psychic_astrology",
          "title": "Supernatural Readings"
         },
         {
          "alias": "reiki",
          "title": "Reiki"
         }
        ],
        "coordinates": {
         "latitude": 45.5844791,
         "longitude": -122.6921212
        },
        "display_phone": "(503) 819-1901",
        "distance": 6482.501357706773,
        "id": "a80O7ITXUda09VyK4Jw_PA",
        "image_url": "https://s3-media3.fl.yelpcdn.com/bphoto/JvvSsZOHG4uNH_a97ACtoA/o.jpg",
        "is_closed": false,
        "location": {
         "address1": "",
         "address2": null,
         "address3": "",
         "city": "Portland",
         "country": "US",
         "display_address": [
          "Portland, OR 97217"
         ],
         "state": "OR",
         "zip_code": "97217"
        },
        "name": "Miss Renee",
        "phone": "+15038191901",
        "rating": 5,
        "review_count": 61,
        "transactions": [],
        "url": "https://www.yelp.com/biz/miss-renee-portland?adjust_creative=HJQhR5t4Y4QUXLptr6Oemg&utm_campaign=yelp_api_v3&utm_medium=api_v3_business_search&utm_source=HJQhR5t4Y4QUXLptr6Oemg"
       },
       {
        "alias": "pearson-air-museum-vancouver",
        "categories": [
         {
          "alias": "museums",
          "title": "Museums"
         }
        ],
        "coordinates": {
         "latitude": 45.6244051,
         "longitude": -122.65675
        },
        "display_phone": "(360) 816-6232",
        "distance": 1686.8811824855018,
        "id": "7SYv7_vzyEr_xK3USFyGOg",
        "image_url": "https://s3-media2.fl.yelpcdn.com/bphoto/w5KExOdQfQ2B00GNVwkdXg/o.jpg",
        "is_closed": false,
        "location": {
         "address1": "1115 E 5th St",
         "address2": "",
         "address3": "",
         "city": "Vancouver",
         "country": "US",
         "display_address": [
          "1115 E 5th St",
          "Vancouver, WA 98661"
         ],
         "state": "WA",
         "zip_code": "98661"
        },
        "name": "Pearson Air Museum",
        "phone": "+13608166232",
        "rating": 4.5,
        "review_count": 16,
        "transactions": [],
        "url": "https://www.yelp.com/biz/pearson-air-museum-vancouver?adjust_creative=HJQhR5t4Y4QUXLptr6Oemg&utm_campaign=yelp_api_v3&utm_medium=api_v3_business_search&utm_source=HJQhR5t4Y4QUXLptr6Oemg"
       },
       {
        "alias": "kris-cahill-portland-4",
        "categories": [
         {
          "alias": "psychic_astrology",
          "title": "Supernatural Readings"
         },
         {
          "alias": "meditationcenters",
          "title": "Meditation Centers"
         }
        ],
        "coordinates": {
         "latitude": 45.528316497802734,
         "longitude": -122.68537139892578
        },
        "display_phone": "(213) 448-0503",
        "distance": 12624.332562057101,
        "id": "XtLCqn2nH4SEdZgRq5Od5w",
        "image_url": "https://s3-media2.fl.yelpcdn.com/bphoto/MQzQF00E7caBfYfIV5G1eQ/o.jpg",
        "is_closed": false,
        "location": {
         "address1": null,
         "address2": null,
         "address3": "",
         "city": "Portland",
         "country": "US",
         "display_address": [
          "Portland, OR 97209"
         ],
         "state": "OR",
         "zip_code": "97209"
        },
        "name": "Kris Cahill",
        "phone": "+12134480503",
        "rating": 5,
        "review_count": 40,
        "transactions": [],
        "url": "https://www.yelp.com/biz/kris-cahill-portland-4?adjust_creative=HJQhR5t4Y4QUXLptr6Oemg&utm_campaign=yelp_api_v3&utm_medium=api_v3_business_search&utm_source=HJQhR5t4Y4QUXLptr6Oemg"
       },
       {
        "alias": "cellar-55-vancouver-2",
        "categories": [
         {
          "alias": "wineries",
          "title": "Wineries"
         }
        ],
        "coordinates": {
         "latitude": 45.6353678,
         "longitude": -122.6729756
        },
        "display_phone": "(360) 693-2700",
        "distance": 966.0787765421073,
        "id": "utF48r5110suoUfKDpwwSA",
        "image_url": "https://s3-media2.fl.yelpcdn.com/bphoto/3JitZBJC0o5EdyO33Phq7w/o.jpg",
        "is_closed": false,
        "location": {
         "address1": "1812 Washington St",
         "address2": null,
         "address3": null,
         "city": "Vancouver",
         "country": "US",
         "display_address": [
          "1812 Washington St",
          "Vancouver, WA 98660"
         ],
         "state": "WA",
         "zip_code": "98660"
        },
        "name": "Cellar 55",
        "phone": "+13606932700",
        "price": "$$",
        "rating": 5,
        "review_count": 8,
        "transactions": [],
        "url": "https://www.yelp.com/biz/cellar-55-vancouver-2?adjust_creative=HJQhR5t4Y4QUXLptr6Oemg&utm_campaign=yelp_api_v3&utm_medium=api_v3_business_search&utm_source=HJQhR5t4Y4QUXLptr6Oemg"
       },
       {
        "alias": "st-johns-twin-cinemas-and-pub-portland",
        "categories": [
         {
          "alias": "movietheaters",
          "title": "Cinema"
         }
        ],
        "coordinates": {
         "latitude": 45.590576171875,
         "longitude": -122.755645751953
        },
        "display_phone": "(503) 286-1768",
        "distance": 9069.156140326271,
        "id": "oQ45sDT1pd1dHaHyWEqQQA",
        "image_url": "https://s3-media1.fl.yelpcdn.com/bphoto/nRkkyZnEhPLCreegDOr5Ag/o.jpg",
        "is_closed": false,
        "location": {
         "address1": "8704 N Lombard St",
         "address2": "",
         "address3": "",
         "city": "Portland",
         "country": "US",
         "display_address": [
          "8704 N Lombard St",
          "Portland, OR 97203"
         ],
         "state": "OR",
         "zip_code": "97203"
        },
        "name": "St. Johns Twin Cinemas and Pub",
        "phone": "+15032861768",
        "rating": 4,
        "review_count": 146,
        "transactions": [],
        "url": "https://www.yelp.com/biz/st-johns-twin-cinemas-and-pub-portland?adjust_creative=HJQhR5t4Y4QUXLptr6Oemg&utm_campaign=yelp_api_v3&utm_medium=api_v3_business_search&utm_source=HJQhR5t4Y4QUXLptr6Oemg"
       },
       {
        "alias": "allens-crosley-lanes-vancouver",
        "categories": [
         {
          "alias": "bowling",
          "title": "Bowling"
         },
         {
          "alias": "arcades",
          "title": "Arcades"
         }
        ],
        "coordinates": {
         "latitude": 45.62634,
         "longitude": -122.64602
        },
        "display_phone": "(360) 693-4789",
        "distance": 1792.164793268712,
        "id": "C4lkkfCnd3ux5PaF7wt-xQ",
        "image_url": "https://s3-media3.fl.yelpcdn.com/bphoto/ecKA4cfPiIH_5Y3BNM1Cwg/o.jpg",
        "is_closed": false,
        "location": {
         "address1": "2400 E Evergreen Blvd",
         "address2": "",
         "address3": "",
         "city": "Vancouver",
         "country": "US",
         "display_address": [
          "2400 E Evergreen Blvd",
          "Vancouver, WA 98661"
         ],
         "state": "WA",
         "zip_code": "98661"
        },
        "name": "Allen's Crosley Lanes",
        "phone": "+13606934789",
        "rating": 3,
        "review_count": 62,
        "transactions": [],
        "url": "https://www.yelp.com/biz/allens-crosley-lanes-vancouver?adjust_creative=HJQhR5t4Y4QUXLptr6Oemg&utm_campaign=yelp_api_v3&utm_medium=api_v3_business_search&utm_source=HJQhR5t4Y4QUXLptr6Oemg"
       },
       {
        "alias": "fortside-brewing-company-vancouver",
        "categories": [
         {
          "alias": "breweries",
          "title": "Breweries"
         },
         {
          "alias": "winetastingroom",
          "title": "Wine Tasting Room"
         }
        ],
        "coordinates": {
         "latitude": 45.638295,
         "longitude": -122.60109
        },
        "display_phone": "(360) 524-4692",
        "distance": 4696.823245196272,
        "id": "zgI4i5PlfNWaHrnEO7KqTA",
        "image_url": "https://s3-media3.fl.yelpcdn.com/bphoto/JSmRze0_GNsD4lYSRgBCIw/o.jpg",
        "is_closed": false,
        "location": {
         "address1": "2200 NE Andresen Rd",
         "address2": "Ste B",
         "address3": "",
         "city": "Vancouver",
         "country": "US",
         "display_address": [
          "2200 NE Andresen Rd",
          "Ste B",
          "Vancouver, WA 98661"
         ],
         "state": "WA",
         "zip_code": "98661"
        },
        "name": "Fortside Brewing Company",
        "phone": "+13605244692",
        "price": "$",
        "rating": 4.5,
        "review_count": 56,
        "transactions": [],
        "url": "https://www.yelp.com/biz/fortside-brewing-company-vancouver?adjust_creative=HJQhR5t4Y4QUXLptr6Oemg&utm_campaign=yelp_api_v3&utm_medium=api_v3_business_search&utm_source=HJQhR5t4Y4QUXLptr6Oemg"
       },
       {
        "alias": "airfield-estates-vancouver-tasting-room-vancouver-2",
        "categories": [
         {
          "alias": "wineries",
          "title": "Wineries"
         }
        ],
        "coordinates": {
         "latitude": 45.6242574204051,
         "longitude": -122.68077585582
        },
        "display_phone": "(509) 786-7401",
        "distance": 2196.6888737903882,
        "id": "aVI2RO5c4SVLkeziiMXMfA",
        "image_url": "https://s3-media2.fl.yelpcdn.com/bphoto/Vi1_AUzqAjU9gGvoexQkRw/o.jpg",
        "is_closed": false,
        "location": {
         "address1": "760 Waterfront Way",
         "address2": null,
         "address3": null,
         "city": "Vancouver",
         "country": "US",
         "display_address": [
          "760 Waterfront Way",
          "Vancouver, WA 98660"
         ],
         "state": "WA",
         "zip_code": "98660"
        },
        "name": "Airfield Estates - Vancouver Tasting Room",
        "phone": "+15097867401",
        "rating": 4.5,
        "review_count": 13,
        "transactions": [
         "delivery"
        ],
        "url": "https://www.yelp.com/biz/airfield-estates-vancouver-tasting-room-vancouver-2?adjust_creative=HJQhR5t4Y4QUXLptr6Oemg&utm_campaign=yelp_api_v3&utm_medium=api_v3_business_search&utm_source=HJQhR5t4Y4QUXLptr6Oemg"
       },
       {
        "alias": "devil-ish-little-things-museum-vancouver",
        "categories": [
         {
          "alias": "museums",
          "title": "Museums"
         }
        ],
        "coordinates": {
         "latitude": 45.64619,
         "longitude": -122.65937
        },
        "display_phone": "(503) 841-4232",
        "distance": 850.1467032695855,
        "id": "dMyyuSNoiP0HDaIjI6HCEw",
        "image_url": "https://s3-media1.fl.yelpcdn.com/bphoto/ovQc0Im_jdiwYDPInY7JiQ/o.jpg",
        "is_closed": false,
        "location": {
         "address1": "3409 L St",
         "address2": "",
         "address3": null,
         "city": "Vancouver",
         "country": "US",
         "display_address": [
          "3409 L St",
          "Vancouver, WA 98663"
         ],
         "state": "WA",
         "zip_code": "98663"
        },
        "name": "DEVIL - ish Little Things Museum",
        "phone": "+15038414232",
        "rating": 4.5,
        "review_count": 8,
        "transactions": [],
        "url": "https://www.yelp.com/biz/devil-ish-little-things-museum-vancouver?adjust_creative=HJQhR5t4Y4QUXLptr6Oemg&utm_campaign=yelp_api_v3&utm_medium=api_v3_business_search&utm_source=HJQhR5t4Y4QUXLptr6Oemg"
       },
       {
        "alias": "the-lombard-pub-portland",
        "categories": [
         {
          "alias": "lounges",
          "title": "Lounges"
         },
         {
          "alias": "musicvenues",
          "title": "Music Venues"
         }
        ],
        "coordinates": {
         "latitude": 45.57694,
         "longitude": -122.70202
        },
        "display_phone": "",
        "distance": 7558.128157668764,
        "id": "JmtmC1IX0UbSzWnJtmuJXA",
        "image_url": "https://s3-media3.fl.yelpcdn.com/bphoto/cnilbKqt48TLCqjyqM7qqg/o.jpg",
        "is_closed": false,
        "location": {
         "address1": "3416 N Lombard St",
         "address2": null,
         "address3": "",
         "city": "Portland",
         "country": "US",
         "display_address": [
          "3416 N Lombard St",
          "Portland, OR 97217"
         ],
         "state": "OR",
         "zip_code": "97217"
        },
        "name": "The Lombard Pub",
        "phone": "",
        "price": "$",
        "rating": 4,
        "review_count": 61,
        "transactions": [
         "delivery"
        ],
        "url": "https://www.yelp.com/biz/the-lombard-pub-portland?adjust_creative=HJQhR5t4Y4QUXLptr6Oemg&utm_campaign=yelp_api_v3&utm_medium=api_v3_business_search&utm_source=HJQhR5t4Y4QUXLptr6Oemg"
       },
       {
        "alias": "retro-game-bar-portland",
        "categories": [
         {
          "alias": "cocktailbars",
          "title": "Cocktail Bars"
         },
         {
          "alias": "arcades",
          "title": "Arcades"
         }
        ],
        "coordinates": {
         "latitude": 45.57101,
         "longitude": -122.66105
        },
        "display_phone": "(971) 271-8079",
        "distance": 7468.650546968565,
        "id": "FH6ZTibuQw0fOWussIaDcA",
        "image_url": "https://s3-media4.fl.yelpcdn.com/bphoto/OOnj_zDqiceepsyXdohE3w/o.jpg",
        "is_closed": false,
        "location": {
         "address1": "6720 NE Martin Luther King Jr Blvd",
         "address2": "",
         "address3": null,
         "city": "Portland",
         "country": "US",
         "display_address": [
          "6720 NE Martin Luther King Jr Blvd",
          "Portland, OR 97211"
         ],
         "state": "OR",
         "zip_code": "97211"
        },
        "name": "Retro Game Bar",
        "phone": "+19712718079",
        "rating": 4.5,
        "review_count": 30,
        "transactions": [],
        "url": "https://www.yelp.com/biz/retro-game-bar-portland?adjust_creative=HJQhR5t4Y4QUXLptr6Oemg&utm_campaign=yelp_api_v3&utm_medium=api_v3_business_search&utm_source=HJQhR5t4Y4QUXLptr6Oemg"
       },
       {
        "alias": "the-fixin-to-portland",
        "categories": [
         {
          "alias": "southern",
          "title": "Southern"
         },
         {
          "alias": "breakfast_brunch",
          "title": "Breakfast & Brunch"
         },
         {
          "alias": "musicvenues",
          "title": "Music Venues"
         }
        ],
        "coordinates": {
         "latitude": 45.5888599,
         "longitude": -122.75139
        },
        "display_phone": "(503) 477-4995",
        "distance": 8931.616360745193,
        "id": "8Y41B37P7zSCqmZ3LTmipg",
        "image_url": "https://s3-media2.fl.yelpcdn.com/bphoto/urEimNPxV-FVIg7dBvzOGw/o.jpg",
        "is_closed": false,
        "location": {
         "address1": "8218 N Lombard",
         "address2": "",
         "address3": "",
         "city": "Portland",
         "country": "US",
         "display_address": [
          "8218 N Lombard",
          "Portland, OR 97203"
         ],
         "state": "OR",
         "zip_code": "97203"
        },
        "name": "The Fixin' To",
        "phone": "+15034774995",
        "price": "$",
        "rating": 3.5,
        "review_count": 122,
        "transactions": [
         "delivery"
        ],
        "url": "https://www.yelp.com/biz/the-fixin-to-portland?adjust_creative=HJQhR5t4Y4QUXLptr6Oemg&utm_campaign=yelp_api_v3&utm_medium=api_v3_business_search&utm_source=HJQhR5t4Y4QUXLptr6Oemg"
       },
       {
        "alias": "artichoke-music-portland",
        "categories": [
         {
          "alias": "musicalinstrumentsandteachers",
          "title": "Musical Instruments & Teachers"
         },
         {
          "alias": "theater",
          "title": "Performing Arts"
         },
         {
          "alias": "nonprofit",
          "title": "Community Service/Non-Profit"
         }
        ],
        "coordinates": {
         "latitude": 45.4999489,
         "longitude": -122.6454032
        },
        "display_phone": "(503) 232-8845",
        "distance": 15479.197891858297,
        "id": "CIIXaNKtRpPwpr0qwkn3dg",
        "image_url": "https://s3-media3.fl.yelpcdn.com/bphoto/mtxw7_hLhrs1HujpSJOqQQ/o.jpg",
        "is_closed": false,
        "location": {
         "address1": "2007 SE Powell Blvd",
         "address2": "",
         "address3": "",
         "city": "Portland",
         "country": "US",
         "display_address": [
          "2007 SE Powell Blvd",
          "Portland, OR 97202"
         ],
         "state": "OR",
         "zip_code": "97202"
        },
        "name": "Artichoke Music",
        "phone": "+15032328845",
        "price": "$$$",
        "rating": 4.5,
        "review_count": 32,
        "transactions": [],
        "url": "https://www.yelp.com/biz/artichoke-music-portland?adjust_creative=HJQhR5t4Y4QUXLptr6Oemg&utm_campaign=yelp_api_v3&utm_medium=api_v3_business_search&utm_source=HJQhR5t4Y4QUXLptr6Oemg"
       },
       {
        "alias": "daniel-monroe-psychic-medium-vancouver",
        "categories": [
         {
          "alias": "psychicmediums",
          "title": "Psychic Mediums"
         }
        ],
        "coordinates": {
         "latitude": 45.6297529,
         "longitude": -122.6718371
        },
        "display_phone": "(971) 276-8807",
        "distance": 1278.9611166401294,
        "id": "6W5Cay8NcvDP41urM5slaQ",
        "image_url": "https://s3-media3.fl.yelpcdn.com/bphoto/dnYbiL2YQozkoK6PXwtS9w/o.jpg",
        "is_closed": false,
        "location": {
         "address1": "1104 Main St",
         "address2": "Ste M-100",
         "address3": "",
         "city": "Vancouver",
         "country": "US",
         "display_address": [
          "1104 Main St",
          "Ste M-100",
          "Vancouver, WA 98660"
         ],
         "state": "WA",
         "zip_code": "98660"
        },
        "name": "Daniel Monroe Psychic Medium",
        "phone": "+19712768807",
        "rating": 4.5,
        "review_count": 11,
        "transactions": [],
        "url": "https://www.yelp.com/biz/daniel-monroe-psychic-medium-vancouver?adjust_creative=HJQhR5t4Y4QUXLptr6Oemg&utm_campaign=yelp_api_v3&utm_medium=api_v3_business_search&utm_source=HJQhR5t4Y4QUXLptr6Oemg"
       }
      ],
      "text/plain": [
       "<IPython.core.display.JSON object>"
      ]
     },
     "execution_count": 7,
     "metadata": {
      "application/json": {
       "expanded": false,
       "root": "root"
      }
     },
     "output_type": "execute_result"
    }
   ],
   "source": [
    "#let's explore this result\n",
    "JSON(result['businesses'])"
   ]
  },
  {
   "cell_type": "code",
   "execution_count": 8,
   "id": "856c0dc0-0660-4f74-8a63-2327a373ffec",
   "metadata": {},
   "outputs": [],
   "source": [
    "#larger categories given by yelp\n",
    "#yelp_cat_ids = {'Active Life': 'active, All',"
   ]
  },
  {
   "cell_type": "code",
   "execution_count": 9,
   "id": "fcb485a9-006d-47a6-bcc9-dc34539908d8",
   "metadata": {},
   "outputs": [],
   "source": [
    "def get_venues_yelp(location, category):\n",
    "    \n",
    "    #Test out retrieving API info\n",
    "    response = re.get(root_endpoint_yelp, \n",
    "                  params = {'latitude': location[0], \n",
    "                            'longitude':location[1],\n",
    "                            'categories':category,\n",
    "                            'radius':1000},\n",
    "                  headers = headers_yelp)\n",
    "    \n",
    "    result = response.json()\n",
    "    \n",
    "    #define empty objects\n",
    "    venue_amount = 0\n",
    "    venues = []\n",
    "    \n",
    "    for place in result['businesses']:\n",
    "      \n",
    "        #print(i['categories'])\n",
    "        for venue_type in place['categories']:\n",
    "        \n",
    "            #print(venue_type['alias'])\n",
    "            venues.append(venue_type['title'])\n",
    "            venue_amount += 1\n",
    "        \n",
    "\n",
    "    #save venues into data frame and count values\n",
    "    venues_df = pd.DataFrame(venues, columns=['title']).value_counts()\n",
    "    #make dataframe look nice with proper index\n",
    "    return  pd.DataFrame(venues_df, columns=['total'])\n",
    "    \n",
    "    \n",
    "test_yelp_df = get_venues_yelp([45.6387,-122.6615], ['restaurants, All'])"
   ]
  },
  {
   "cell_type": "code",
   "execution_count": 10,
   "id": "94321ef9-22fb-499e-b377-d0079ac856bb",
   "metadata": {},
   "outputs": [
    {
     "name": "stdout",
     "output_type": "stream",
     "text": [
      "                        total\n",
      "title                        \n",
      "American (Traditional)      5\n",
      "Breakfast & Brunch          5\n",
      "Food Trucks                 4\n",
      "Coffee & Tea                3\n",
      "Sandwiches                  3\n",
      "American (New)              2\n",
      "Beer, Wine & Spirits        2\n",
      "Pubs                        2\n",
      "Pizza                       1\n",
      "Sushi Bars                  1\n",
      "Speakeasies                 1\n",
      "Mexican                     1\n",
      "Tapas/Small Plates          1\n",
      "Thai                        1\n",
      "Vietnamese                  1\n",
      "Waffles                     1\n",
      "Noodles                     1\n",
      "Italian                     1\n",
      "Mediterranean               1\n",
      "Japanese                    1\n",
      "Hot Dogs                    1\n",
      "French                      1\n",
      "Delis                       1\n",
      "Cocktail Bars               1\n",
      "Chinese                     1\n",
      "Burgers                     1\n",
      "Brewpubs                    1\n",
      "Bars                        1\n",
      "Bakeries                    1\n",
      "Wine Bars                   1\n"
     ]
    },
    {
     "data": {
      "text/html": [
       "<div>\n",
       "<style scoped>\n",
       "    .dataframe tbody tr th:only-of-type {\n",
       "        vertical-align: middle;\n",
       "    }\n",
       "\n",
       "    .dataframe tbody tr th {\n",
       "        vertical-align: top;\n",
       "    }\n",
       "\n",
       "    .dataframe thead th {\n",
       "        text-align: right;\n",
       "    }\n",
       "</style>\n",
       "<table border=\"1\" class=\"dataframe\">\n",
       "  <thead>\n",
       "    <tr style=\"text-align: right;\">\n",
       "      <th></th>\n",
       "      <th>total</th>\n",
       "    </tr>\n",
       "    <tr>\n",
       "      <th>title</th>\n",
       "      <th></th>\n",
       "    </tr>\n",
       "  </thead>\n",
       "  <tbody>\n",
       "    <tr>\n",
       "      <th>American (Traditional)</th>\n",
       "      <td>5</td>\n",
       "    </tr>\n",
       "    <tr>\n",
       "      <th>Breakfast &amp; Brunch</th>\n",
       "      <td>5</td>\n",
       "    </tr>\n",
       "    <tr>\n",
       "      <th>Food Trucks</th>\n",
       "      <td>4</td>\n",
       "    </tr>\n",
       "    <tr>\n",
       "      <th>Coffee &amp; Tea</th>\n",
       "      <td>3</td>\n",
       "    </tr>\n",
       "    <tr>\n",
       "      <th>Sandwiches</th>\n",
       "      <td>3</td>\n",
       "    </tr>\n",
       "    <tr>\n",
       "      <th>American (New)</th>\n",
       "      <td>2</td>\n",
       "    </tr>\n",
       "    <tr>\n",
       "      <th>Beer, Wine &amp; Spirits</th>\n",
       "      <td>2</td>\n",
       "    </tr>\n",
       "    <tr>\n",
       "      <th>Pubs</th>\n",
       "      <td>2</td>\n",
       "    </tr>\n",
       "    <tr>\n",
       "      <th>Pizza</th>\n",
       "      <td>1</td>\n",
       "    </tr>\n",
       "    <tr>\n",
       "      <th>Sushi Bars</th>\n",
       "      <td>1</td>\n",
       "    </tr>\n",
       "    <tr>\n",
       "      <th>Speakeasies</th>\n",
       "      <td>1</td>\n",
       "    </tr>\n",
       "    <tr>\n",
       "      <th>Mexican</th>\n",
       "      <td>1</td>\n",
       "    </tr>\n",
       "    <tr>\n",
       "      <th>Tapas/Small Plates</th>\n",
       "      <td>1</td>\n",
       "    </tr>\n",
       "    <tr>\n",
       "      <th>Thai</th>\n",
       "      <td>1</td>\n",
       "    </tr>\n",
       "    <tr>\n",
       "      <th>Vietnamese</th>\n",
       "      <td>1</td>\n",
       "    </tr>\n",
       "    <tr>\n",
       "      <th>Waffles</th>\n",
       "      <td>1</td>\n",
       "    </tr>\n",
       "    <tr>\n",
       "      <th>Noodles</th>\n",
       "      <td>1</td>\n",
       "    </tr>\n",
       "    <tr>\n",
       "      <th>Italian</th>\n",
       "      <td>1</td>\n",
       "    </tr>\n",
       "    <tr>\n",
       "      <th>Mediterranean</th>\n",
       "      <td>1</td>\n",
       "    </tr>\n",
       "    <tr>\n",
       "      <th>Japanese</th>\n",
       "      <td>1</td>\n",
       "    </tr>\n",
       "  </tbody>\n",
       "</table>\n",
       "</div>"
      ],
      "text/plain": [
       "                        total\n",
       "title                        \n",
       "American (Traditional)      5\n",
       "Breakfast & Brunch          5\n",
       "Food Trucks                 4\n",
       "Coffee & Tea                3\n",
       "Sandwiches                  3\n",
       "American (New)              2\n",
       "Beer, Wine & Spirits        2\n",
       "Pubs                        2\n",
       "Pizza                       1\n",
       "Sushi Bars                  1\n",
       "Speakeasies                 1\n",
       "Mexican                     1\n",
       "Tapas/Small Plates          1\n",
       "Thai                        1\n",
       "Vietnamese                  1\n",
       "Waffles                     1\n",
       "Noodles                     1\n",
       "Italian                     1\n",
       "Mediterranean               1\n",
       "Japanese                    1"
      ]
     },
     "execution_count": 10,
     "metadata": {},
     "output_type": "execute_result"
    }
   ],
   "source": [
    "print(test_yelp_df)\n",
    "test_yelp_df.head(20)"
   ]
  },
  {
   "cell_type": "markdown",
   "id": "dfbdb4c7-7e1a-4105-98ef-f812dc6c91a8",
   "metadata": {
    "tags": []
   },
   "source": [
    "### Larger data sets\n",
    "\n",
    "I have the basics for generating API info. But I want to get venue amounts for a bunch of different categories and create one big table, one for foursquare, one for yelp.\n",
    "\n",
    "Then table that will relate yelp venue titles and foursquare venue titles"
   ]
  },
  {
   "cell_type": "code",
   "execution_count": 11,
   "id": "b9da3ab0-69cb-4494-8aee-ec6159e57b64",
   "metadata": {},
   "outputs": [],
   "source": [
    "#Let's define the foursquare venue list we'll be using\n",
    "foursquare_cat = {'Arts and Entertainment': 10000,\n",
    "                  'Dining and Drinking': 13000,\n",
    "                  'Health and Medicine': 15000,\n",
    "                  'Landmarks and Outdoors': 16000\n",
    "                 }\n",
    "\n",
    "yelp_cat = {'Arts and Entertainment': 'arts, All',\n",
    "            'Dining and Drinking': 'restaurants, All',\n",
    "            'Health and Medicine': 'health, All',\n",
    "            'Landmarks and Outdoors': 'entertainment, All'\n",
    "                 }"
   ]
  },
  {
   "cell_type": "code",
   "execution_count": 12,
   "id": "7245a781-7d99-4fd0-9f2f-09f2ddb1afd6",
   "metadata": {},
   "outputs": [],
   "source": [
    "frames_four = []\n",
    "#now i want a loop that will go in and generate a table for each of the dict elements\n",
    "for category in foursquare_cat:\n",
    "    \n",
    "    frames_four.append(get_venues_four('45.6387,-122.6615', category))"
   ]
  },
  {
   "cell_type": "code",
   "execution_count": 13,
   "id": "04de9b97-92a2-4f56-8537-8a7a038062c6",
   "metadata": {},
   "outputs": [
    {
     "data": {
      "text/html": [
       "<div>\n",
       "<style scoped>\n",
       "    .dataframe tbody tr th:only-of-type {\n",
       "        vertical-align: middle;\n",
       "    }\n",
       "\n",
       "    .dataframe tbody tr th {\n",
       "        vertical-align: top;\n",
       "    }\n",
       "\n",
       "    .dataframe thead th {\n",
       "        text-align: right;\n",
       "    }\n",
       "</style>\n",
       "<table border=\"1\" class=\"dataframe\">\n",
       "  <thead>\n",
       "    <tr style=\"text-align: right;\">\n",
       "      <th></th>\n",
       "      <th>Category</th>\n",
       "      <th>id</th>\n",
       "      <th>title</th>\n",
       "      <th>total</th>\n",
       "    </tr>\n",
       "  </thead>\n",
       "  <tbody>\n",
       "    <tr>\n",
       "      <th>0</th>\n",
       "      <td>Entertainment</td>\n",
       "      <td>10000</td>\n",
       "      <td>Arts and Entertainment</td>\n",
       "      <td>4</td>\n",
       "    </tr>\n",
       "    <tr>\n",
       "      <th>1</th>\n",
       "      <td>Entertainment</td>\n",
       "      <td>10039</td>\n",
       "      <td>Music Venue</td>\n",
       "      <td>2</td>\n",
       "    </tr>\n",
       "    <tr>\n",
       "      <th>2</th>\n",
       "      <td>Entertainment</td>\n",
       "      <td>10003</td>\n",
       "      <td>Arcade</td>\n",
       "      <td>1</td>\n",
       "    </tr>\n",
       "    <tr>\n",
       "      <th>3</th>\n",
       "      <td>Entertainment</td>\n",
       "      <td>10004</td>\n",
       "      <td>Art Gallery</td>\n",
       "      <td>1</td>\n",
       "    </tr>\n",
       "    <tr>\n",
       "      <th>4</th>\n",
       "      <td>Entertainment</td>\n",
       "      <td>10028</td>\n",
       "      <td>Art Museum</td>\n",
       "      <td>1</td>\n",
       "    </tr>\n",
       "  </tbody>\n",
       "</table>\n",
       "</div>"
      ],
      "text/plain": [
       "        Category     id                   title  total\n",
       "0  Entertainment  10000  Arts and Entertainment      4\n",
       "1  Entertainment  10039             Music Venue      2\n",
       "2  Entertainment  10003                  Arcade      1\n",
       "3  Entertainment  10004             Art Gallery      1\n",
       "4  Entertainment  10028              Art Museum      1"
      ]
     },
     "execution_count": 13,
     "metadata": {},
     "output_type": "execute_result"
    }
   ],
   "source": [
    "#now let's put them all together\n",
    "foursquare_raw = pd.concat([frames_four[0], frames_four[1], frames_four[2], frames_four[3]],\n",
    "                            names=['Category','id','title'],\n",
    "                            keys=['Entertainment','Dining','Health','Landmarks']).reset_index()\n",
    "foursquare_raw.head()"
   ]
  },
  {
   "cell_type": "code",
   "execution_count": 14,
   "id": "2d648ab9-e62b-4167-bf47-aa8e85f1a17f",
   "metadata": {},
   "outputs": [],
   "source": [
    "foursquare_data = foursquare_raw.sort_values('total', ascending = False)"
   ]
  },
  {
   "cell_type": "code",
   "execution_count": 15,
   "id": "83c1cf31-dc29-49fe-8d53-6c739d561860",
   "metadata": {},
   "outputs": [],
   "source": [
    "#now it's yelps turn\n",
    "frames_yelp = []\n",
    "#now i want a loop that will go in and generate a table for each of the dict elements\n",
    "for category in yelp_cat:\n",
    "    frames_yelp.append(get_venues_yelp([45.6387, -122.6615], yelp_cat[category]))"
   ]
  },
  {
   "cell_type": "code",
   "execution_count": 16,
   "id": "9b896ca1-aa8b-48ae-8c25-f5932828a5ff",
   "metadata": {},
   "outputs": [],
   "source": [
    "yelp_raw = pd.concat([frames_yelp[0],frames_yelp[1],frames_yelp[2],frames_yelp[3]],\n",
    "                      names=['Category','title'],\n",
    "                      keys=['Entertainment','Dining','Health','Landmarks']).reset_index()\n"
   ]
  },
  {
   "cell_type": "code",
   "execution_count": 17,
   "id": "d937575b-3410-4570-8cc9-34a0a4f13624",
   "metadata": {},
   "outputs": [],
   "source": [
    "yelp_data = yelp_raw.sort_values('total', ascending = False)"
   ]
  },
  {
   "cell_type": "code",
   "execution_count": 18,
   "id": "0a16bf47-b4c0-446d-83bf-4613b46d8714",
   "metadata": {},
   "outputs": [],
   "source": [
    "yelp_data.to_csv('yelp_venues')"
   ]
  },
  {
   "cell_type": "code",
   "execution_count": 19,
   "id": "318ea1dc-7b29-430d-9dcb-480fe7419558",
   "metadata": {},
   "outputs": [],
   "source": [
    "foursquare_data.to_csv('foursquare_venues')"
   ]
  }
 ],
 "metadata": {
  "kernelspec": {
   "display_name": "Python 3 (ipykernel)",
   "language": "python",
   "name": "python3"
  },
  "language_info": {
   "codemirror_mode": {
    "name": "ipython",
    "version": 3
   },
   "file_extension": ".py",
   "mimetype": "text/x-python",
   "name": "python",
   "nbconvert_exporter": "python",
   "pygments_lexer": "ipython3",
   "version": "3.9.7"
  }
 },
 "nbformat": 4,
 "nbformat_minor": 5
}
